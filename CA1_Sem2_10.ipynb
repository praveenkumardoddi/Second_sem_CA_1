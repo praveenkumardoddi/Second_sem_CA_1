{
 "cells": [
  {
   "cell_type": "code",
   "execution_count": 1,
   "id": "5cbe461f",
   "metadata": {},
   "outputs": [
    {
     "name": "stderr",
     "output_type": "stream",
     "text": [
      "24/03/25 22:56:22 WARN SparkSession: Using an existing Spark session; only runtime SQL configurations will take effect.\n",
      "                                                                                \r"
     ]
    }
   ],
   "source": [
    "from pyspark.sql import SparkSession\n",
    "from pyspark.sql.types import *\n",
    "\n",
    "# Initialize SparkSession\n",
    "spark = SparkSession.builder \\\n",
    "    .appName(\"Read CSV\") \\\n",
    "    .getOrCreate()\n",
    "\n",
    "# Read CSV file into a DataFrame\n",
    "df = spark.read.load('hdfs://localhost:9000/user1/en_coronavirus_03_04_2020_thru_03_27_2020.csv',format='csv', header=True)\n"
   ]
  },
  {
   "cell_type": "code",
   "execution_count": 2,
   "id": "e1ae6834",
   "metadata": {},
   "outputs": [
    {
     "data": {
      "text/html": [
       "\n",
       "        <div>\n",
       "            <p><b>SparkContext</b></p>\n",
       "\n",
       "            <p><a href=\"http://10.0.2.15:4040\">Spark UI</a></p>\n",
       "\n",
       "            <dl>\n",
       "              <dt>Version</dt>\n",
       "                <dd><code>v3.4.2</code></dd>\n",
       "              <dt>Master</dt>\n",
       "                <dd><code>local[*]</code></dd>\n",
       "              <dt>AppName</dt>\n",
       "                <dd><code>PySparkShell</code></dd>\n",
       "            </dl>\n",
       "        </div>\n",
       "        "
      ],
      "text/plain": [
       "<SparkContext master=local[*] appName=PySparkShell>"
      ]
     },
     "execution_count": 2,
     "metadata": {},
     "output_type": "execute_result"
    }
   ],
   "source": [
    "sc"
   ]
  },
  {
   "cell_type": "code",
   "execution_count": 3,
   "id": "1567bbb8",
   "metadata": {},
   "outputs": [
    {
     "name": "stderr",
     "output_type": "stream",
     "text": [
      "                                                                                \r"
     ]
    },
    {
     "name": "stdout",
     "output_type": "stream",
     "text": [
      "+--------------------+--------------------+--------------------+--------------------+-------------+--------------------+------------------+--------+----------+-------------+\n",
      "|             user_id|           status_id|          status_url|          created_at|  screen_name|                text|            source|is_quote|is_retweet|retweet_count|\n",
      "+--------------------+--------------------+--------------------+--------------------+-------------+--------------------+------------------+--------+----------+-------------+\n",
      "|  750502701457440768| 1235354334923276289|https://twitter.c...|2020-03-04T23:59:59Z|RocketMan6510|Here are the 6 co...|              null|    null|      null|         null|\n",
      "|1. Health care wo...|                null|                null|                null|         null|                null|              null|    null|      null|         null|\n",
      "|2. Westchester at...|                null|                null|                null|         null|                null|              null|    null|      null|         null|\n",
      "|         3. His wife|                null|                null|                null|         null|                null|              null|    null|      null|         null|\n",
      "|4. Daughter (14 y...|                null|                null|                null|         null|                null|              null|    null|      null|         null|\n",
      "| 5. Son (20 yrs old)|                null|                null|                null|         null|                null|              null|    null|      null|         null|\n",
      "|6. A neighbor who...|     Twitter Web App|               FALSE|                TRUE|          399|                null|              null|    null|      null|         null|\n",
      "|          1694554160| 1235354333602107393|https://twitter.c...|2020-03-04T23:59:59Z|mariomoraes51|Find out how #ICT...|Twitter for iPhone|   FALSE|      TRUE|          422|\n",
      "|           866954221| 1235354332842901506|https://twitter.c...|2020-03-04T23:59:59Z| Kath60276430|@WHO These #coron...|              null|    null|      null|         null|\n",
      "|https://t.co/rg2D...| Twitter for Android|               FALSE|                TRUE|           69|                null|              null|    null|      null|         null|\n",
      "|           866954221| 1235353059766697984|https://twitter.c...|2020-03-04T23:54:55Z| Kath60276430|Yes, #coronavirus...|              null|    null|      null|         null|\n",
      "|https://t.co/VER4...| Twitter for Android|               FALSE|                TRUE|          480|                null|              null|    null|      null|         null|\n",
      "|           866954221| 1235354283589210112|https://twitter.c...|2020-03-04T23:59:47Z| Kath60276430|Today's #coronavi...|              null|    null|      null|         null|\n",
      "|                 -93|164 confirmed cas...|          199 deaths|                null|         null|                null|              null|    null|      null|         null|\n",
      "|-90% of new cases...|                null|                null|                null|         null|                null|              null|    null|      null|         null|\n",
      "|-#COVID19 deadlie...| but doesn't spre...|                null|                null|         null|                null|              null|    null|      null|         null|\n",
      "|-Containment stil...|                null|                null|                null|         null|                null|              null|    null|      null|         null|\n",
      "|-#PPE supply is r...| Twitter for Android|               FALSE|                TRUE|         1880|                null|              null|    null|      null|         null|\n",
      "|          3308577546| 1235354332335198208|https://twitter.c...|2020-03-04T23:59:59Z|  AlmaTiamzon|Life goes on in #...|              null|    null|      null|         null|\n",
      "|Iranian medical s...|                null|                null|                null|         null|                null|              null|    null|      null|         null|\n",
      "+--------------------+--------------------+--------------------+--------------------+-------------+--------------------+------------------+--------+----------+-------------+\n",
      "only showing top 20 rows\n",
      "\n"
     ]
    }
   ],
   "source": [
    "# Show the DataFrame\n",
    "df.show()"
   ]
  },
  {
   "cell_type": "code",
   "execution_count": 4,
   "id": "3f93dfab",
   "metadata": {},
   "outputs": [
    {
     "name": "stderr",
     "output_type": "stream",
     "text": [
      "[Stage 2:=============================>                             (1 + 1) / 2]\r"
     ]
    },
    {
     "name": "stdout",
     "output_type": "stream",
     "text": [
      "Number of rows: 671515\n",
      "Number of columns: 10\n"
     ]
    },
    {
     "name": "stderr",
     "output_type": "stream",
     "text": [
      "                                                                                \r"
     ]
    }
   ],
   "source": [
    "# Count the number of rows\n",
    "row_count = df.count()\n",
    "\n",
    "# Get the list of column names and count the number of columns\n",
    "column_count = len(df.columns)\n",
    "\n",
    "print(\"Number of rows:\", row_count)\n",
    "print(\"Number of columns:\", column_count)\n"
   ]
  },
  {
   "cell_type": "code",
   "execution_count": 5,
   "id": "0e5a94db",
   "metadata": {},
   "outputs": [
    {
     "name": "stdout",
     "output_type": "stream",
     "text": [
      "root\n",
      " |-- user_id: string (nullable = true)\n",
      " |-- status_id: string (nullable = true)\n",
      " |-- status_url: string (nullable = true)\n",
      " |-- created_at: string (nullable = true)\n",
      " |-- screen_name: string (nullable = true)\n",
      " |-- text: string (nullable = true)\n",
      " |-- source: string (nullable = true)\n",
      " |-- is_quote: string (nullable = true)\n",
      " |-- is_retweet: string (nullable = true)\n",
      " |-- retweet_count: string (nullable = true)\n",
      "\n"
     ]
    }
   ],
   "source": [
    "# Display the schema\n",
    "df.printSchema()"
   ]
  },
  {
   "cell_type": "code",
   "execution_count": 6,
   "id": "f89d616e",
   "metadata": {},
   "outputs": [
    {
     "name": "stderr",
     "output_type": "stream",
     "text": [
      "24/03/25 22:57:05 WARN package: Truncated the string representation of a plan since it was too large. This behavior can be adjusted by setting 'spark.sql.debug.maxToStringFields'.\n",
      "[Stage 5:=============================>                             (1 + 1) / 2]\r"
     ]
    },
    {
     "name": "stdout",
     "output_type": "stream",
     "text": [
      "+-------+--------------------+--------------------+--------------------+------------------+-----------+--------------------+--------------------+--------------------+-----------------+--------------------+\n",
      "|summary|             user_id|           status_id|          status_url|        created_at|screen_name|                text|              source|            is_quote|       is_retweet|       retweet_count|\n",
      "+-------+--------------------+--------------------+--------------------+------------------+-----------+--------------------+--------------------+--------------------+-----------------+--------------------+\n",
      "|  count|              671508|              494948|              463761|            457582|     456004|              321452|              164017|              158709|           157191|              156605|\n",
      "|   mean|3.319423476913961...|1.218941021433981...|   368.7757255936676|1185.4778761061948|   Infinity|   8048.884650235593|  1542.7500769467529|  4367.4402597402595|1976.405172413793|   4909.680592577069|\n",
      "| stddev|4.791978226206066...|1.612757400486819...|   481.7532298134069|1019.9578081027346|        NaN|   22010.26214841966|  2114.9401075629426|   5093.025443557902|1978.874143473515|  14581.082602846076|\n",
      "|    min|                 ...|                    |                    |                  |           |  customers and e...|  editor in chief...|                    |  #WuhanLockDown | \"\"Woman in the W...|\n",
      "|    max|🪓 👯‍♂️ 🪓👯‍♂️?...|                 😷\"|❤tag a mate you k...|              Оwly|          ”|                  󠀠|ツイタマ for Android|” Tedros said Mon...|           viriya|they also need mo...|\n",
      "+-------+--------------------+--------------------+--------------------+------------------+-----------+--------------------+--------------------+--------------------+-----------------+--------------------+\n",
      "\n"
     ]
    },
    {
     "name": "stderr",
     "output_type": "stream",
     "text": [
      "                                                                                \r"
     ]
    }
   ],
   "source": [
    "# Display the summary stastics\n",
    "df.describe().show()"
   ]
  },
  {
   "cell_type": "code",
   "execution_count": 7,
   "id": "fa10692c",
   "metadata": {},
   "outputs": [
    {
     "name": "stdout",
     "output_type": "stream",
     "text": [
      "+--------------------+--------------------+--------------------+--------------------+-------------+--------------------+------------------+--------+----------+-------------+\n",
      "|             user_id|           status_id|          status_url|          created_at|  screen_name|                text|            source|is_quote|is_retweet|retweet_count|\n",
      "+--------------------+--------------------+--------------------+--------------------+-------------+--------------------+------------------+--------+----------+-------------+\n",
      "|  750502701457440768| 1235354334923276289|https://twitter.c...|2020-03-04T23:59:59Z|RocketMan6510|Here are the 6 co...|              null|    null|      null|         null|\n",
      "|1. Health care wo...|                null|                null|                null|         null|                null|              null|    null|      null|         null|\n",
      "|2. Westchester at...|                null|                null|                null|         null|                null|              null|    null|      null|         null|\n",
      "|         3. His wife|                null|                null|                null|         null|                null|              null|    null|      null|         null|\n",
      "|4. Daughter (14 y...|                null|                null|                null|         null|                null|              null|    null|      null|         null|\n",
      "| 5. Son (20 yrs old)|                null|                null|                null|         null|                null|              null|    null|      null|         null|\n",
      "|6. A neighbor who...|     Twitter Web App|               FALSE|                TRUE|          399|                null|              null|    null|      null|         null|\n",
      "|          1694554160| 1235354333602107393|https://twitter.c...|2020-03-04T23:59:59Z|mariomoraes51|Find out how #ICT...|Twitter for iPhone|   FALSE|      TRUE|          422|\n",
      "|           866954221| 1235354332842901506|https://twitter.c...|2020-03-04T23:59:59Z| Kath60276430|@WHO These #coron...|              null|    null|      null|         null|\n",
      "|https://t.co/rg2D...| Twitter for Android|               FALSE|                TRUE|           69|                null|              null|    null|      null|         null|\n",
      "|           866954221| 1235353059766697984|https://twitter.c...|2020-03-04T23:54:55Z| Kath60276430|Yes, #coronavirus...|              null|    null|      null|         null|\n",
      "|https://t.co/VER4...| Twitter for Android|               FALSE|                TRUE|          480|                null|              null|    null|      null|         null|\n",
      "|           866954221| 1235354283589210112|https://twitter.c...|2020-03-04T23:59:47Z| Kath60276430|Today's #coronavi...|              null|    null|      null|         null|\n",
      "|                 -93|164 confirmed cas...|          199 deaths|                null|         null|                null|              null|    null|      null|         null|\n",
      "|-90% of new cases...|                null|                null|                null|         null|                null|              null|    null|      null|         null|\n",
      "|-#COVID19 deadlie...| but doesn't spre...|                null|                null|         null|                null|              null|    null|      null|         null|\n",
      "|-Containment stil...|                null|                null|                null|         null|                null|              null|    null|      null|         null|\n",
      "|-#PPE supply is r...| Twitter for Android|               FALSE|                TRUE|         1880|                null|              null|    null|      null|         null|\n",
      "|          3308577546| 1235354332335198208|https://twitter.c...|2020-03-04T23:59:59Z|  AlmaTiamzon|Life goes on in #...|              null|    null|      null|         null|\n",
      "|Iranian medical s...|                null|                null|                null|         null|                null|              null|    null|      null|         null|\n",
      "+--------------------+--------------------+--------------------+--------------------+-------------+--------------------+------------------+--------+----------+-------------+\n",
      "only showing top 20 rows\n",
      "\n"
     ]
    }
   ],
   "source": [
    "from pyspark.sql.functions import length\n",
    "\n",
    "# Cast 'text' column to StringType\n",
    "df_text = df.withColumn(\"text\", df[\"text\"].cast(\"string\"))\n",
    "df_text.show()"
   ]
  },
  {
   "cell_type": "code",
   "execution_count": 8,
   "id": "4e138d6f",
   "metadata": {},
   "outputs": [
    {
     "name": "stderr",
     "output_type": "stream",
     "text": [
      "[Stage 9:>                                                          (0 + 2) / 2]\r"
     ]
    },
    {
     "name": "stdout",
     "output_type": "stream",
     "text": [
      "+--------------------+-----+\n",
      "|              source|count|\n",
      "+--------------------+-----+\n",
      "|\"\" says @SenTedCr...|    3|\n",
      "|           GaggleAMP|    8|\n",
      "| etc. https://t.c...|    1|\n",
      "| lax labor laws a...|    2|\n",
      "|        Tabtter Free|    4|\n",
      "| the threat of a ...|   29|\n",
      "| I never imagined...|    1|\n",
      "| including aged g...|    1|\n",
      "| later developed ...|    2|\n",
      "| returned with #C...|    1|\n",
      "| said a city gove...|    1|\n",
      "|                2162|   25|\n",
      "|\"\" promising to n...|    1|\n",
      "|MonkeyViral Auto ...|    7|\n",
      "| if there’s a mes...|    5|\n",
      "|                 125|    1|\n",
      "| we’re all in thi...|    4|\n",
      "| I replied Philip...|    1|\n",
      "| it's Taiwan. I'v...|    1|\n",
      "|                \"\"No|    1|\n",
      "+--------------------+-----+\n",
      "only showing top 20 rows\n",
      "\n"
     ]
    },
    {
     "name": "stderr",
     "output_type": "stream",
     "text": [
      "                                                                                \r"
     ]
    }
   ],
   "source": [
    "# Grouping the data and the count\n",
    "from pyspark.sql.functions import collect_list\n",
    "\n",
    "# Group by 'source' column \n",
    "grouped_df = df.groupBy('source').count().show()\n",
    "grouped_df"
   ]
  },
  {
   "cell_type": "code",
   "execution_count": 9,
   "id": "fc64fbcc",
   "metadata": {},
   "outputs": [
    {
     "name": "stderr",
     "output_type": "stream",
     "text": [
      "[Stage 12:=============================>                            (1 + 1) / 2]\r"
     ]
    },
    {
     "name": "stdout",
     "output_type": "stream",
     "text": [
      "+--------------------+---------------+\n",
      "|              source|avg(is_retweet)|\n",
      "+--------------------+---------------+\n",
      "|\"\" says @SenTedCr...|           null|\n",
      "|           GaggleAMP|           null|\n",
      "| etc. https://t.c...|           null|\n",
      "| lax labor laws a...|           null|\n",
      "|        Tabtter Free|           null|\n",
      "| the threat of a ...|           null|\n",
      "| I never imagined...|           null|\n",
      "| including aged g...|           null|\n",
      "| later developed ...|           null|\n",
      "| returned with #C...|           null|\n",
      "| said a city gove...|           null|\n",
      "|                2162|           null|\n",
      "|\"\" promising to n...|           null|\n",
      "|MonkeyViral Auto ...|           null|\n",
      "| if there’s a mes...|           null|\n",
      "|                 125|           null|\n",
      "| we’re all in thi...|           null|\n",
      "| I replied Philip...|           null|\n",
      "| it's Taiwan. I'v...|           null|\n",
      "|                \"\"No|           null|\n",
      "+--------------------+---------------+\n",
      "only showing top 20 rows\n",
      "\n"
     ]
    },
    {
     "name": "stderr",
     "output_type": "stream",
     "text": [
      "                                                                                \r"
     ]
    }
   ],
   "source": [
    "#Grouping the data and aggregating\n",
    "grouped_df2 = df.groupBy('source').agg({'is_retweet':'avg'})\n",
    "grouped_df2.show()"
   ]
  },
  {
   "cell_type": "code",
   "execution_count": 10,
   "id": "c7529df5",
   "metadata": {},
   "outputs": [
    {
     "name": "stdout",
     "output_type": "stream",
     "text": [
      "+-----+-----+-----+-----+-----+-----+-----+-----+-----+-----+\n",
      "| text| text| text| text| text| text| text| text| text| text|\n",
      "+-----+-----+-----+-----+-----+-----+-----+-----+-----+-----+\n",
      "|false|false|false|false|false|false|false|false|false|false|\n",
      "| true| true| true| true| true| true| true| true| true| true|\n",
      "| true| true| true| true| true| true| true| true| true| true|\n",
      "| true| true| true| true| true| true| true| true| true| true|\n",
      "| true| true| true| true| true| true| true| true| true| true|\n",
      "| true| true| true| true| true| true| true| true| true| true|\n",
      "| true| true| true| true| true| true| true| true| true| true|\n",
      "|false|false|false|false|false|false|false|false|false|false|\n",
      "|false|false|false|false|false|false|false|false|false|false|\n",
      "| true| true| true| true| true| true| true| true| true| true|\n",
      "|false|false|false|false|false|false|false|false|false|false|\n",
      "| true| true| true| true| true| true| true| true| true| true|\n",
      "|false|false|false|false|false|false|false|false|false|false|\n",
      "| true| true| true| true| true| true| true| true| true| true|\n",
      "| true| true| true| true| true| true| true| true| true| true|\n",
      "| true| true| true| true| true| true| true| true| true| true|\n",
      "| true| true| true| true| true| true| true| true| true| true|\n",
      "| true| true| true| true| true| true| true| true| true| true|\n",
      "|false|false|false|false|false|false|false|false|false|false|\n",
      "| true| true| true| true| true| true| true| true| true| true|\n",
      "+-----+-----+-----+-----+-----+-----+-----+-----+-----+-----+\n",
      "only showing top 20 rows\n",
      "\n"
     ]
    }
   ],
   "source": [
    "# Identify missing values in the DataFrame\n",
    "missing_values_df = df.select([df['text'].isNull().alias('text') for column in df.columns])\n",
    "\n",
    "# Show the DataFrame with missing values\n",
    "missing_values_df.show()"
   ]
  },
  {
   "cell_type": "code",
   "execution_count": 11,
   "id": "4461d2f9",
   "metadata": {},
   "outputs": [
    {
     "name": "stdout",
     "output_type": "stream",
     "text": [
      "+----+-----+----+\n",
      "|year|month| day|\n",
      "+----+-----+----+\n",
      "|2020|    3|   4|\n",
      "|null| null|null|\n",
      "|null| null|null|\n",
      "|null| null|null|\n",
      "|null| null|null|\n",
      "|null| null|null|\n",
      "|null| null|null|\n",
      "|2020|    3|   4|\n",
      "|2020|    3|   4|\n",
      "|null| null|null|\n",
      "|2020|    3|   4|\n",
      "|null| null|null|\n",
      "|2020|    3|   4|\n",
      "|null| null|null|\n",
      "|null| null|null|\n",
      "|null| null|null|\n",
      "|null| null|null|\n",
      "|null| null|null|\n",
      "|2020|    3|   4|\n",
      "|null| null|null|\n",
      "+----+-----+----+\n",
      "only showing top 20 rows\n",
      "\n"
     ]
    }
   ],
   "source": [
    "# Extract features from timestamps\n",
    "from pyspark.sql.functions import year, month, dayofmonth\n",
    "\n",
    "# Select only the extracted features without modifying the original DataFrame\n",
    "extracted_features_df = df.select(year(df['created_at']).alias('year'),\n",
    "                                  month(df['created_at']).alias('month'),\n",
    "                                  dayofmonth(df['created_at']).alias('day'))\n",
    "\n",
    "# Display the extracted features\n",
    "extracted_features_df.show()"
   ]
  },
  {
   "cell_type": "code",
   "execution_count": 12,
   "id": "95432051",
   "metadata": {},
   "outputs": [
    {
     "name": "stdout",
     "output_type": "stream",
     "text": [
      " *** Aggregation for user_id ***\n"
     ]
    },
    {
     "name": "stderr",
     "output_type": "stream",
     "text": [
      "                                                                                \r"
     ]
    },
    {
     "name": "stdout",
     "output_type": "stream",
     "text": [
      "+----------------------------------------------------------------------------------------------------------------------------+-----+\n",
      "|user_id                                                                                                                     |count|\n",
      "+----------------------------------------------------------------------------------------------------------------------------+-----+\n",
      "|#coronavirus\"                                                                                                               |2998 |\n",
      "|#coronavirus                                                                                                                |2063 |\n",
      "|#coronavirus #DontBeASpreader https://t.co/Hqhc4fFXbe\"                                                                      |1544 |\n",
      "|#coronavirus                                                                                                                |1241 |\n",
      "|@thespybrief                                                                                                                |767  |\n",
      "|.                                                                                                                           |739  |\n",
      "|#COVID19                                                                                                                    |717  |\n",
      "|The reported #covid19 cases went from a surge in February of 15                                                             |676  |\n",
      "|THEY PLAYED GAMES THE WHOLE TIME                                                                                            |665  |\n",
      "|People are very upset that President @realDonaldTrump didn’t invite any democrats at the #coronavirus Stimulus Bill signing |665  |\n",
      "|They are still bashing him &amp; wrongfully blaming him for this crisis.                                                    |665  |\n",
      "|SO WHY INVITE THEM? https://t.co/A8iqJ7terq\"                                                                                |665  |\n",
      "|Rain check that dinner with friends.                                                                                        |654  |\n",
      "|Sucks doesn’t it? But not as hard as this 👇                                                                                |654  |\n",
      "|Postpone that coffee meet-up.                                                                                               |654  |\n",
      "|Now cancel that brunch.                                                                                                     |654  |\n",
      "|#COVIDー19 #coronavirus #StayAtHome                                                                                         |650  |\n",
      "| https://t.co/LM9BnFQf3E\"                                                                                                   |650  |\n",
      "|#COVID19                                                                                                                    |617  |\n",
      "|https://t.co/xMCSKtsZFM\"                                                                                                    |598  |\n",
      "+----------------------------------------------------------------------------------------------------------------------------+-----+\n",
      "only showing top 20 rows\n",
      "\n",
      " *** Aggregation for status_id ***\n"
     ]
    },
    {
     "name": "stderr",
     "output_type": "stream",
     "text": [
      "                                                                                \r"
     ]
    },
    {
     "name": "stdout",
     "output_type": "stream",
     "text": [
      "+----------------------------------------------------------------------------------------------------------+------+\n",
      "|status_id                                                                                                 |count |\n",
      "+----------------------------------------------------------------------------------------------------------+------+\n",
      "|null                                                                                                      |176567|\n",
      "|Twitter for iPhone                                                                                        |49344 |\n",
      "|Twitter for Android                                                                                       |41677 |\n",
      "|Twitter Web App                                                                                           |28802 |\n",
      "|Twitter for iPad                                                                                          |8031  |\n",
      "|TweetDeck                                                                                                 |1431  |\n",
      "|Twitter Web Client                                                                                        |1219  |\n",
      "|000 in one day to only 15 this week. https://t.co/xWuPd23EfY\"                                             |675   |\n",
      "| good luck everyone! 🎣                                                                                   |570   |\n",
      "| must be following me for a message! 🎁                                                                   |546   |\n",
      "| 2 deaths                                                                                                 |494   |\n",
      "| 0 deaths                                                                                                 |490   |\n",
      "| 1 death                                                                                                  |479   |\n",
      "| 14 deaths                                                                                                |476   |\n",
      "| evidence &amp; facts say SHUT THINGS DOWN.                                                               |381   |\n",
      "| money &amp; profits are  more important than people's lives.                                             |381   |\n",
      "|000                                                                                                       |346   |\n",
      "| #USNSComfort and #USNSMercy being deployed to assist in COVID-19 response efforts. #CoronaVirus #COVID19 |337   |\n",
      "|Hootsuite Inc.                                                                                            |334   |\n",
      "|Instagram                                                                                                 |315   |\n",
      "+----------------------------------------------------------------------------------------------------------+------+\n",
      "only showing top 20 rows\n",
      "\n",
      " *** Aggregation for status_url ***\n"
     ]
    },
    {
     "name": "stderr",
     "output_type": "stream",
     "text": [
      "                                                                                \r"
     ]
    },
    {
     "name": "stdout",
     "output_type": "stream",
     "text": [
      "+--------------------------------------------------------------------------------------------------------------------------------------------+------+\n",
      "|status_url                                                                                                                                  |count |\n",
      "+--------------------------------------------------------------------------------------------------------------------------------------------+------+\n",
      "|null                                                                                                                                        |207754|\n",
      "|FALSE                                                                                                                                       |131545|\n",
      "|Twitter for iPhone                                                                                                                          |4367  |\n",
      "|Twitter for Android                                                                                                                         |3339  |\n",
      "|TRUE                                                                                                                                        |2306  |\n",
      "|Twitter Web App                                                                                                                             |2266  |\n",
      "|Twitter for iPad                                                                                                                            |639   |\n",
      "|292 deaths                                                                                                                                  |244   |\n",
      "| very important.”                                                                                                                           |214   |\n",
      "| spring breaks— they will claim 330 million were saved because they listened.\"                                                              |196   |\n",
      "| which would hinder @POTUS from using his authority to restrict travel                                                                      |179   |\n",
      "| asks Dems trying to exploit the pandemic: Why do you want to leave people like me defenseless? https://t.co/wDeEYHqzOU\"                    |160   |\n",
      "|652 deaths 🌎 (@WHO)                                                                                                                        |159   |\n",
      "|199 deaths                                                                                                                                  |147   |\n",
      "| homeless kids                                                                                                                              |144   |\n",
      "| how come my local health officials and others across America still don’t have the promised #coronavirus test kits? https://t.co/QVUZCU967R\"|131   |\n",
      "|111 crew members                                                                                                                            |128   |\n",
      "| just handed the Speaker of the Florida House a baseball bat engraved with \"\"slayer of the healthcare industrial complex.\"\"                 |114   |\n",
      "| has shown encouraging early results against the #coronavirus.                                                                              |106   |\n",
      "| Kudlow or @KellyannePolls. https://t.co/KO1CxxiCx9\"                                                                                        |104   |\n",
      "+--------------------------------------------------------------------------------------------------------------------------------------------+------+\n",
      "only showing top 20 rows\n",
      "\n",
      " *** Aggregation for created_at ***\n"
     ]
    },
    {
     "name": "stderr",
     "output_type": "stream",
     "text": [
      "                                                                                \r"
     ]
    },
    {
     "name": "stdout",
     "output_type": "stream",
     "text": [
      "+---------------------------------------------------+------+\n",
      "|created_at                                         |count |\n",
      "+---------------------------------------------------+------+\n",
      "|null                                               |213933|\n",
      "|TRUE                                               |115212|\n",
      "|FALSE                                              |29632 |\n",
      "|Twitter for iPhone                                 |1285  |\n",
      "|Twitter for Android                                |1081  |\n",
      "|Twitter Web App                                    |593   |\n",
      "| why did they build *two 1                         |244   |\n",
      "| like he's done to prevent the spread of #COVID19.\"|179   |\n",
      "|Twitter for iPad                                   |170   |\n",
      "| working parents                                   |144   |\n",
      "| only of 46 were tested.                           |121   |\n",
      "| have died\"\"-@DrTedros #COVID19 #coronavirus\"      |80    |\n",
      "| and support for food stamps &amp; unemployment.   |58    |\n",
      "| neighbours.. https://t.co/N7z5uviMAv\"             |51    |\n",
      "| clean hands                                       |51    |\n",
      "|2020-03-27T23:32:42Z                               |48    |\n",
      "| AND UNION KICKBACKS IF YOU WANT YOUR JOB BACK\"\" 💥|48    |\n",
      "| 3/27/2020                                         |46    |\n",
      "|2020-03-27T23:35:00Z                               |44    |\n",
      "|2020-03-20T20:30:00Z                               |44    |\n",
      "+---------------------------------------------------+------+\n",
      "only showing top 20 rows\n",
      "\n",
      " *** Aggregation for screen_name ***\n"
     ]
    },
    {
     "name": "stderr",
     "output_type": "stream",
     "text": [
      "                                                                                \r"
     ]
    },
    {
     "name": "stdout",
     "output_type": "stream",
     "text": [
      "+-----------+------+\n",
      "|screen_name|count |\n",
      "+-----------+------+\n",
      "|null       |215511|\n",
      "|0          |12741 |\n",
      "|TRUE       |10056 |\n",
      "|1          |5332  |\n",
      "|FALSE      |4177  |\n",
      "|2          |3366  |\n",
      "|3          |2442  |\n",
      "|4          |1960  |\n",
      "|5          |1702  |\n",
      "|6          |1380  |\n",
      "|190166     |1161  |\n",
      "|8          |1150  |\n",
      "|7          |1138  |\n",
      "|10         |957   |\n",
      "|9          |885   |\n",
      "|12         |773   |\n",
      "|11         |770   |\n",
      "|13         |729   |\n",
      "|14         |711   |\n",
      "|16         |599   |\n",
      "+-----------+------+\n",
      "only showing top 20 rows\n",
      "\n",
      " *** Aggregation for text ***\n"
     ]
    },
    {
     "name": "stderr",
     "output_type": "stream",
     "text": [
      "                                                                                \r"
     ]
    },
    {
     "name": "stdout",
     "output_type": "stream",
     "text": [
      "+----------------------------------------------------------------------------------------------------------------------------------------------------------------------------------------------------------------------------------------------------------------------------------------------------------------+------+\n",
      "|text                                                                                                                                                                                                                                                                                                            |count |\n",
      "+----------------------------------------------------------------------------------------------------------------------------------------------------------------------------------------------------------------------------------------------------------------------------------------------------------------+------+\n",
      "|null                                                                                                                                                                                                                                                                                                            |350063|\n",
      "|TRUE                                                                                                                                                                                                                                                                                                            |2964  |\n",
      "|JUST IN: 51 Italian doctors who tested positive for #coronavirus have died - Italian Association of Doctors                                                                                                                                                                                                     |2512  |\n",
      "|A message from me and my dad, @Melbrooks.                                                                                                                                                                                                                                                                       |1544  |\n",
      "|Wuhan reported only about 2,500 #coronavirus deaths, but 5,000 urns were delivered to one mortuary over just 2 days. “Wuhan has seven other mortuaries.” https://t.co/32sIwcJYRq @shanghaiist                                                                                                                   |1092  |\n",
      "|FALSE                                                                                                                                                                                                                                                                                                           |1035  |\n",
      "|This how NY niggas gotta get on the train now #CoronaVirusUpdates #COVIDー19 #coronavirus #coronapocalypse https://t.co/W8x7SsL4mL                                                                                                                                                                              |934   |\n",
      "|retweet if you're angry about how all this is being handled #coronavirus                                                                                                                                                                                                                                        |934   |\n",
      "|\"My new favourite thing is Italian mayors and regional presidents LOSING IT at people violating quarantine. Here's an eng subtitled compilation. \"\"I hear you wanna throw graduation parties. I'm gonna send the police over. With flamethrowers.\"\" #Covid19 #coronavirus https://t.co/NbYuWePIVt\"              |890   |\n",
      "|When you’re a goalkeeper... and an only child... in self isolation... and trying to keep up with your training... 😂😂came up with this himself! I’m so impressed. #coronavirus #StayHomeStaySafe https://t.co/FFzJ1LE3N1                                                                                       |738   |\n",
      "|Chinese medical workers who have been fighting the #coronavirus day and night in Wuhan celebrated the closing of the last temporary hospital in Wuhan.                                                                                                                                                          |676   |\n",
      "|NO DEMOCRATS WERE INVITED 😂                                                                                                                                                                                                                                                                                    |665   |\n",
      "|Video of a hospital in Spain. Watch it. Watch it again with the volume up.                                                                                                                                                                                                                                      |654   |\n",
      "|0                                                                                                                                                                                                                                                                                                               |645   |\n",
      "|wow...taken this morning....never seen Vegas this empty before tbh #coronavirus https://t.co/9YbvuimUX2                                                                                                                                                                                                         |639   |\n",
      "|At height of the AIDS epidemic, posters like this popped up all over US cities. With #coronavirus, @realDonaldTrump and those in his administration who don't stand up against his disinformation, bumbling incompetence will, once again, have blood on their hands. @actupny #granfury https://t.co/CVI8M57vWI|610   |\n",
      "|There are still people who aren’t taking this #coronavirus outbreak seriously. Remember, it’s not just about you. Spare a thought for family &amp; loved ones, especially the elderly. You may be young &amp; healthy but there are those whose immune system is compromised. Don’t be selfish!                 |599   |\n",
      "|CDC says #coronavirus survived in Princess Cruise ship cabins for up to 17 days after passengers left.                                                                                                                                                                                                          |598   |\n",
      "|So at this point in this presser listening to Trump complain about the impact #Coronavirus is having on the economy and his rush now to “open the economy” (despite serious advice to the contrary”) one has a clearer sense of what he values. It ain’t us.                                                    |585   |\n",
      "|Because we are all dealing with the #coronavirus, I thought I’d spread some positivity!! ❤️✨                                                                                                                                                                                                                    |570   |\n",
      "+----------------------------------------------------------------------------------------------------------------------------------------------------------------------------------------------------------------------------------------------------------------------------------------------------------------+------+\n",
      "only showing top 20 rows\n",
      "\n",
      " *** Aggregation for source ***\n"
     ]
    },
    {
     "name": "stderr",
     "output_type": "stream",
     "text": [
      "                                                                                \r"
     ]
    },
    {
     "name": "stdout",
     "output_type": "stream",
     "text": [
      "+----------------------------------------+------+\n",
      "|source                                  |count |\n",
      "+----------------------------------------+------+\n",
      "|null                                    |507498|\n",
      "|Twitter for iPhone                      |65180 |\n",
      "|Twitter for Android                     |41683 |\n",
      "|Twitter Web App                         |28857 |\n",
      "|Twitter for iPad                        |8259  |\n",
      "|Twitter Web Client                      |1992  |\n",
      "|TweetDeck                               |1790  |\n",
      "|TRUE                                    |693   |\n",
      "|Hootsuite Inc.                          |540   |\n",
      "|Instagram                               |518   |\n",
      "|FALSE                                   |401   |\n",
      "| I don't call\"\" https://t.co/PnKXNAQFzC\"|384   |\n",
      "|Buffer                                  |338   |\n",
      "|Tweetbot for iΟS                        |332   |\n",
      "|dlvr.it                                 |211   |\n",
      "| politicians are reassuring             |195   |\n",
      "|0                                       |179   |\n",
      "|2888                                    |131   |\n",
      "| Wuhan                                  |121   |\n",
      "|Sprout Social                           |120   |\n",
      "+----------------------------------------+------+\n",
      "only showing top 20 rows\n",
      "\n",
      " *** Aggregation for is_quote ***\n"
     ]
    },
    {
     "name": "stderr",
     "output_type": "stream",
     "text": [
      "                                                                                \r"
     ]
    },
    {
     "name": "stdout",
     "output_type": "stream",
     "text": [
      "+------------------------------------------------------------------------------------------------------------------+------+\n",
      "|is_quote                                                                                                          |count |\n",
      "+------------------------------------------------------------------------------------------------------------------+------+\n",
      "|null                                                                                                              |512806|\n",
      "|FALSE                                                                                                             |148423|\n",
      "|TRUE                                                                                                              |4595  |\n",
      "|Twitter for iPhone                                                                                                |746   |\n",
      "|Twitter for Android                                                                                               |599   |\n",
      "|Twitter Web App                                                                                                   |447   |\n",
      "| while there's little to be reassured of. #COVID19 #coronavirus\"                                                  |194   |\n",
      "|11637                                                                                                             |177   |\n",
      "| China 🇨🇳 reported no new #COVID19 cases for the first time since the outbreak began.                           |121   |\n",
      "|\"\" I told @FoxNews today:                                                                                         |113   |\n",
      "|Twitter for iPad                                                                                                  |97    |\n",
      "| I see you. https://t.co/yDixpz63U1\"                                                                              |84    |\n",
      "|\"\" Trudeau said                                                                                                   |77    |\n",
      "| Not sure which hospital.                                                                                         |77    |\n",
      "| bus stations &amp; other public installations in Israel with bleach. Not making this up. https://t.co/g1uK8QD5xY\"|68    |\n",
      "|9639                                                                                                              |64    |\n",
      "| can cause unreasonable fear                                                                                      |57    |\n",
      "|0                                                                                                                 |55    |\n",
      "|7241                                                                                                              |50    |\n",
      "| travel from Europe                                                                                               |44    |\n",
      "+------------------------------------------------------------------------------------------------------------------+------+\n",
      "only showing top 20 rows\n",
      "\n",
      " *** Aggregation for is_retweet ***\n"
     ]
    },
    {
     "name": "stderr",
     "output_type": "stream",
     "text": [
      "                                                                                \r"
     ]
    },
    {
     "name": "stdout",
     "output_type": "stream",
     "text": [
      "+-----------------------------------------------------------------------+------+\n",
      "|is_retweet                                                             |count |\n",
      "+-----------------------------------------------------------------------+------+\n",
      "|null                                                                   |514324|\n",
      "|TRUE                                                                   |119619|\n",
      "|FALSE                                                                  |35079 |\n",
      "|Twitter for iPhone                                                     |377   |\n",
      "|Twitter for Android                                                    |315   |\n",
      "|Twitter Web App                                                        |299   |\n",
      "|4264                                                                   |143   |\n",
      "| directly addressing children during his Sunday update on #coronavirus.|77    |\n",
      "|Twitter for iPad                                                       |66    |\n",
      "| or unjustified acceptance that the fight is over                      |57    |\n",
      "| has gone a long way to not seeding very                               |44    |\n",
      "| and Youtube! https://t.co/iVco2dkCAm\"                                 |40    |\n",
      "|1410                                                                   |39    |\n",
      "| this ahhh                                                             |34    |\n",
      "| McCabe                                                                |30    |\n",
      "| but it's not their fault.\"\" Dr. Fauci here today.\"                    |26    |\n",
      "|0                                                                      |23    |\n",
      "| isolate                                                               |21    |\n",
      "| UACs or migrants who are sick https://t.co/OMgwtjwmAV #coronavirus\"   |21    |\n",
      "|12                                                                     |21    |\n",
      "+-----------------------------------------------------------------------+------+\n",
      "only showing top 20 rows\n",
      "\n",
      " *** Aggregation for retweet_count ***\n"
     ]
    },
    {
     "name": "stderr",
     "output_type": "stream",
     "text": [
      "[Stage 44:>                                                         (0 + 2) / 2]\r"
     ]
    },
    {
     "name": "stdout",
     "output_type": "stream",
     "text": [
      "+-------------+------+\n",
      "|retweet_count|count |\n",
      "+-------------+------+\n",
      "|null         |514910|\n",
      "|0            |25274 |\n",
      "|1            |7929  |\n",
      "|2            |4363  |\n",
      "|3            |3017  |\n",
      "|4            |2357  |\n",
      "|5            |1831  |\n",
      "|TRUE         |1728  |\n",
      "|6            |1717  |\n",
      "|FALSE        |1400  |\n",
      "|7            |1280  |\n",
      "|8            |1257  |\n",
      "|9            |1129  |\n",
      "|11           |934   |\n",
      "|10           |925   |\n",
      "|12           |852   |\n",
      "|14           |832   |\n",
      "|13           |799   |\n",
      "|60797        |764   |\n",
      "|101721       |729   |\n",
      "+-------------+------+\n",
      "only showing top 20 rows\n",
      "\n"
     ]
    },
    {
     "name": "stderr",
     "output_type": "stream",
     "text": [
      "                                                                                \r"
     ]
    }
   ],
   "source": [
    "from pyspark.sql import functions as F\n",
    "\n",
    "# List of columns in your DataFrame\n",
    "columns_to_aggregate = ['user_id', 'status_id', 'status_url', 'created_at', 'screen_name', 'text', 'source', 'is_quote', 'is_retweet', 'retweet_count']\n",
    "\n",
    "# Iterate over each column for aggregation\n",
    "for col in columns_to_aggregate:\n",
    "    print(f\" *** Aggregation for {col} ***\")\n",
    "    df.groupBy(col).count().orderBy(F.col('count').desc()).show(truncate=False)"
   ]
  },
  {
   "cell_type": "code",
   "execution_count": 13,
   "id": "873dba08",
   "metadata": {},
   "outputs": [
    {
     "name": "stdout",
     "output_type": "stream",
     "text": [
      "+-------------------+-------------------+--------------------+--------------------+--------------+--------------------+-------------------+--------+----------+-------------+\n",
      "|            user_id|          status_id|          status_url|          created_at|   screen_name|                text|             source|is_quote|is_retweet|retweet_count|\n",
      "+-------------------+-------------------+--------------------+--------------------+--------------+--------------------+-------------------+--------+----------+-------------+\n",
      "|         1694554160|1235354333602107393|https://twitter.c...|2020-03-04T23:59:59Z| mariomoraes51|Find out how #ICT...| Twitter for iPhone|   FALSE|      TRUE|          422|\n",
      "| 742773886270476288|1235352880485294080|https://twitter.c...|2020-03-04T23:54:13Z|NotAnotherPoll|Good news — I jus...|    Twitter Web App|   FALSE|      TRUE|         1676|\n",
      "|            8132402|1235354330275827712|https://twitter.c...|2020-03-04T23:59:58Z| michaelturton|Just spoke with E...|    Twitter Web App|   FALSE|      TRUE|         6101|\n",
      "| 913176577487380482|1235354330267553792|https://twitter.c...|2020-03-04T23:59:58Z|        tjb207|Good news — I jus...| Twitter for iPhone|   FALSE|      TRUE|         1676|\n",
      "|         2857343638|1235349933655560192|https://twitter.c...|2020-03-04T23:42:30Z|ForeverWeDream|Today’s bipartisa...|Twitter for Android|   FALSE|      TRUE|         1735|\n",
      "|         2986870187|1235354319228219392|https://twitter.c...|2020-03-04T23:59:56Z|    vvalerie_v|Italy closed all ...|Twitter for Android|   FALSE|      TRUE|          733|\n",
      "|         3005028369|1235354318095757318|https://twitter.c...|2020-03-04T23:59:55Z|    jyotsnalim|Just spoke with E...| Twitter for iPhone|   FALSE|      TRUE|         6101|\n",
      "|         2361454752|1235354317843988480|https://twitter.c...|2020-03-04T23:59:55Z|     Rezaee_ir|Italy closed all ...|    Twitter Web App|   FALSE|      TRUE|          354|\n",
      "|1206735583248293888|1235354087480324096|https://twitter.c...|2020-03-04T23:59:00Z|     NicanordL|Vice President @M...| Twitter for iPhone|   FALSE|      TRUE|          408|\n",
      "|1206735583248293888|1235352507733487616|https://twitter.c...|2020-03-04T23:52:44Z|     NicanordL|America's extraor...| Twitter for iPhone|   FALSE|      TRUE|          421|\n",
      "|1206735583248293888|1235353262427172864|https://twitter.c...|2020-03-04T23:55:44Z|     NicanordL|Vice President @M...| Twitter for iPhone|   FALSE|      TRUE|          619|\n",
      "|1206735583248293888|1235354307173773316|https://twitter.c...|2020-03-04T23:59:53Z|     NicanordL|\"Vice President @...| Twitter for iPhone|   FALSE|      TRUE|          281|\n",
      "|          712511637|1235354299712131072|https://twitter.c...|2020-03-04T23:59:51Z| chloeburnett_|The @NHS24 helpli...|Twitter for Android|   FALSE|      TRUE|          587|\n",
      "|          129654950|1235354295643463680|https://twitter.c...|2020-03-04T23:59:50Z|    kingofarts|Dear Lord there a...| Twitter for iPhone|   FALSE|      TRUE|          154|\n",
      "|1228806041510477827|1235354289532473344|https://twitter.c...|2020-03-04T23:59:49Z|   chawiiistle|Good news — I jus...|Twitter for Android|   FALSE|      TRUE|         1676|\n",
      "|          190436354|1235354287049510912|https://twitter.c...|2020-03-04T23:59:48Z|    jose_m_b_e|NEWS: HHS and @CD...| Twitter for iPhone|   FALSE|      TRUE|          398|\n",
      "|           74628767|1235352960298819584|https://twitter.c...|2020-03-04T23:54:32Z|     ksteven37|\"Vice President @...| Twitter for iPhone|   FALSE|      TRUE|          281|\n",
      "|           74628767|1235353743002144779|https://twitter.c...|2020-03-04T23:57:38Z|     ksteven37|Expect some long ...| Twitter for iPhone|   FALSE|      TRUE|          638|\n",
      "|           74628767|1235353664962859008|https://twitter.c...|2020-03-04T23:57:20Z|     ksteven37|Vice President @M...| Twitter for iPhone|   FALSE|      TRUE|          408|\n",
      "|           74628767|1235353680477655041|https://twitter.c...|2020-03-04T23:57:23Z|     ksteven37|Vice President @M...| Twitter for iPhone|   FALSE|      TRUE|          619|\n",
      "+-------------------+-------------------+--------------------+--------------------+--------------+--------------------+-------------------+--------+----------+-------------+\n",
      "only showing top 20 rows\n",
      "\n"
     ]
    }
   ],
   "source": [
    "# Filter tweets with more than 100 retweets\n",
    "filtered_df2 = df.filter(df['retweet_count'] > 100)\n",
    "filtered_df2.show()"
   ]
  },
  {
   "cell_type": "code",
   "execution_count": 14,
   "id": "53e7650e",
   "metadata": {},
   "outputs": [
    {
     "name": "stdout",
     "output_type": "stream",
     "text": [
      "+-------------------+-------------------+--------------------+--------------------+--------------+--------------------+-------------------+--------+----------+-------------+\n",
      "|            user_id|          status_id|          status_url|          created_at|   screen_name|                text|             source|is_quote|is_retweet|retweet_count|\n",
      "+-------------------+-------------------+--------------------+--------------------+--------------+--------------------+-------------------+--------+----------+-------------+\n",
      "|         1694554160|1235354333602107393|https://twitter.c...|2020-03-04T23:59:59Z| mariomoraes51|Find out how #ICT...| Twitter for iPhone|   FALSE|      TRUE|          422|\n",
      "| 742773886270476288|1235352880485294080|https://twitter.c...|2020-03-04T23:54:13Z|NotAnotherPoll|Good news — I jus...|    Twitter Web App|   FALSE|      TRUE|         1676|\n",
      "|           24959025|1235354331718664193|https://twitter.c...|2020-03-04T23:59:59Z|bakersfieldnow|Tune in tonight a...|    Twitter Web App|   FALSE|      TRUE|            1|\n",
      "|            8132402|1235354330275827712|https://twitter.c...|2020-03-04T23:59:58Z| michaelturton|Just spoke with E...|    Twitter Web App|   FALSE|      TRUE|         6101|\n",
      "| 913176577487380482|1235354330267553792|https://twitter.c...|2020-03-04T23:59:58Z|        tjb207|Good news — I jus...| Twitter for iPhone|   FALSE|      TRUE|         1676|\n",
      "|         2857343638|1235349933655560192|https://twitter.c...|2020-03-04T23:42:30Z|ForeverWeDream|Today’s bipartisa...|Twitter for Android|   FALSE|      TRUE|         1735|\n",
      "|         4108627456|1235354323720318976|https://twitter.c...|2020-03-04T23:59:57Z| MikeDSpangler|CDC medical scree...|    Twitter Web App|   FALSE|      TRUE|           62|\n",
      "|         2986870187|1235354319228219392|https://twitter.c...|2020-03-04T23:59:56Z|    vvalerie_v|Italy closed all ...|Twitter for Android|   FALSE|      TRUE|          733|\n",
      "|         2986870187|1235347583804952576|https://twitter.c...|2020-03-04T23:33:10Z|    vvalerie_v|LIVE UPDATES: #Fl...|Twitter for Android|   FALSE|      TRUE|            1|\n",
      "|         3005028369|1235354318095757318|https://twitter.c...|2020-03-04T23:59:55Z|    jyotsnalim|Just spoke with E...| Twitter for iPhone|   FALSE|      TRUE|         6101|\n",
      "|         2361454752|1235354317843988480|https://twitter.c...|2020-03-04T23:59:55Z|     Rezaee_ir|Italy closed all ...|    Twitter Web App|   FALSE|      TRUE|          354|\n",
      "| 953061308621991936|1235354314882727936|https://twitter.c...|2020-03-04T23:59:55Z|  thatswildsir|Once the virus go...|Twitter for Android|   FALSE|      TRUE|            5|\n",
      "|           14207002|1235354309631660032|https://twitter.c...|2020-03-04T23:59:53Z|        akizab|Hyper IgM Familie...| Twitter for iPhone|   FALSE|      TRUE|            5|\n",
      "|1206735583248293888|1235354087480324096|https://twitter.c...|2020-03-04T23:59:00Z|     NicanordL|Vice President @M...| Twitter for iPhone|   FALSE|      TRUE|          408|\n",
      "|1206735583248293888|1235352507733487616|https://twitter.c...|2020-03-04T23:52:44Z|     NicanordL|America's extraor...| Twitter for iPhone|   FALSE|      TRUE|          421|\n",
      "|1206735583248293888|1235353262427172864|https://twitter.c...|2020-03-04T23:55:44Z|     NicanordL|Vice President @M...| Twitter for iPhone|   FALSE|      TRUE|          619|\n",
      "|1206735583248293888|1235354307173773316|https://twitter.c...|2020-03-04T23:59:53Z|     NicanordL|\"Vice President @...| Twitter for iPhone|   FALSE|      TRUE|          281|\n",
      "|          238656915|1235354303629385728|https://twitter.c...|2020-03-04T23:59:52Z|   Jan_KraakSD|President Trump j...| Twitter for iPhone|   FALSE|      TRUE|           37|\n",
      "|          238656915|1235353656330866688|https://twitter.c...|2020-03-04T23:57:18Z|   Jan_KraakSD|Coronavirus: Eigh...| Twitter for iPhone|   FALSE|      TRUE|            1|\n",
      "|          712511637|1235354299712131072|https://twitter.c...|2020-03-04T23:59:51Z| chloeburnett_|The @NHS24 helpli...|Twitter for Android|   FALSE|      TRUE|          587|\n",
      "+-------------------+-------------------+--------------------+--------------------+--------------+--------------------+-------------------+--------+----------+-------------+\n",
      "only showing top 20 rows\n",
      "\n"
     ]
    }
   ],
   "source": [
    "# Filter tweets that are retweets\n",
    "filtered_df3 = df.filter(df['is_retweet'] == True)\n",
    "filtered_df3.show()"
   ]
  },
  {
   "cell_type": "code",
   "execution_count": 15,
   "id": "d764e5b9",
   "metadata": {},
   "outputs": [
    {
     "name": "stderr",
     "output_type": "stream",
     "text": [
      "[Stage 49:=============================>                            (1 + 1) / 2]\r"
     ]
    },
    {
     "name": "stdout",
     "output_type": "stream",
     "text": [
      "+------------------+-------------------+--------------------+--------------------+-----------+--------------------+--------------------+--------+--------------------+--------------------+\n",
      "|           user_id|          status_id|          status_url|          created_at|screen_name|                text|              source|is_quote|          is_retweet|       retweet_count|\n",
      "+------------------+-------------------+--------------------+--------------------+-----------+--------------------+--------------------+--------+--------------------+--------------------+\n",
      "|         388195837|1236799237989584896|https://twitter.c...|2020-03-08T23:41:31Z| samadbeygi|\"Richard Brennan ...|               gowns|  gloves| &amp; bc there'r...|they also need mo...|\n",
      "|         221795726|1238614814706016271|https://twitter.c...|2020-03-13T23:55:58Z|   paolorho|\"@BorisJohnson Si...| has to get coron...| at best| with a mortality...|at least 400.000 ...|\n",
      "|                WI|                 MN|                  KY|                  NE|         HI|                  UT|                  OK|      KS|                  MO|                  VT|\n",
      "|                WI|                 MN|                  KY|                  NE|         HI|                  UT|                  OK|      KS|                  MO|                  VT|\n",
      "|803658512287076352|1241100075134267392|https://twitter.c...|2020-03-20T20:31:31Z|     451REH|\"UPDATE: Hillary ...|           Instagram| Twitter| and Youtube! htt...|  Twitter for iPhone|\n",
      "+------------------+-------------------+--------------------+--------------------+-----------+--------------------+--------------------+--------+--------------------+--------------------+\n",
      "only showing top 5 rows\n",
      "\n"
     ]
    },
    {
     "name": "stderr",
     "output_type": "stream",
     "text": [
      "                                                                                \r"
     ]
    }
   ],
   "source": [
    "# Sort tweets by retweet count in descending order\n",
    "sorted_df = df.orderBy(df['retweet_count'].desc())\n",
    "sorted_df.show(5)"
   ]
  },
  {
   "cell_type": "code",
   "execution_count": 16,
   "id": "c172e019",
   "metadata": {},
   "outputs": [
    {
     "name": "stderr",
     "output_type": "stream",
     "text": [
      "[Stage 50:=============================>                            (1 + 1) / 2]\r"
     ]
    },
    {
     "name": "stdout",
     "output_type": "stream",
     "text": [
      "+--------------------+---------+----------+----------+-----------+----+------+--------+----------+-------------+\n",
      "|             user_id|status_id|status_url|created_at|screen_name|text|source|is_quote|is_retweet|retweet_count|\n",
      "+--------------------+---------+----------+----------+-----------+----+------+--------+----------+-------------+\n",
      "|Where are the tests?|     null|      null|      null|       null|null|  null|    null|      null|         null|\n",
      "| 5. Son (20 yrs old)|     null|      null|      null|       null|null|  null|    null|      null|         null|\n",
      "|-The payments wil...|     null|      null|      null|       null|null|  null|    null|      null|         null|\n",
      "|-Containment stil...|     null|      null|      null|       null|null|  null|    null|      null|         null|\n",
      "|If the D Party wa...|     null|      null|      null|       null|null|  null|    null|      null|         null|\n",
      "+--------------------+---------+----------+----------+-----------+----+------+--------+----------+-------------+\n",
      "only showing top 5 rows\n",
      "\n"
     ]
    },
    {
     "name": "stderr",
     "output_type": "stream",
     "text": [
      "                                                                                \r"
     ]
    }
   ],
   "source": [
    "# Sort tweets by creation time in ascending order\n",
    "sorted_df2 = df.orderBy('created_at')\n",
    "sorted_df2.show(5)"
   ]
  },
  {
   "cell_type": "code",
   "execution_count": 17,
   "id": "6a9d7947",
   "metadata": {},
   "outputs": [
    {
     "name": "stderr",
     "output_type": "stream",
     "text": [
      "                                                                                \r"
     ]
    },
    {
     "data": {
      "text/plain": [
       "DataFrame[source: string, null: bigint,   #WuhanLockDown : bigint,  \"\" If not every city will get hit like #NYC then this seems even more of a reason to send more ventilators to New York.  #coronavirus https://t.co/eRq0WGr9Gf\": bigint,  \"\"In the Heights\"\": bigint,  \"\"quarantini.\"\": bigint,  #CounterAssistants...the backlash will be immense. Your choice @BorisJohnson @MattHancock.  #WeArePharmacy #CoronaCrisis #Covid_19 #Coronavirus https://t.co/DVG21d28bt\": bigint,  #ElPaso: bigint,  #Heilongjiang Province #China. Looks like they are sealing off taxies. No new cases?: bigint,  #NewStart: bigint,  #Ozzy: bigint,  #PressBriefing\": bigint,  #Roseville: bigint,  #Science https://t.co/L4lBft8FZN\": bigint,  #StayHomeSaveLives : bigint,  #WeLoveNurses: bigint,  #coronavirus toilet paper shortage. We went outside and had to use trees and plant leaves!!.. Dad? Yes child? What are trees?... Sorry child: bigint,  #coronavirus\": bigint,  &amp; #Taiwan stands ready to share its #Coronavirus know-how. https://t.co/gyiGX9weF6\": bigint,  &amp; Rand \"\"screw everyone else\"\" Paul.: bigint,  &amp; bc there're so many v sick patients: bigint,  &amp; history: bigint,  &amp; launch a depression.: bigint,  &amp; leave us alone?\": bigint,  &amp; push MANDATED Medicine!\"\"\": bigint,  11: bigint,  19 dead and many fighting for their lives.  Trump should RESIGN!\": bigint,  1988. Hoy: bigint,  2020: bigint,  30+ deaths. #25thAmendment\": bigint,  48; Asama: bigint,  @ProfSarahAgbor\": bigint,  @ansadbmmun (Local) on Ground News #coronavirus #Italy #COVID19 #Medical #Rome https://t.co/51senRsc3Q\": bigint,  @suhas_gondi: bigint,  @thehill (Local) on Ground News #SmartNews #DonaldTrump #MikePence #Coronavirus #WhiteHouse https://t.co/etNPbjToYD\": bigint,  ACA plans: bigint,  Aran: bigint,  Aug 24: bigint,  CPC Center : bigint,  Collins: bigint,  ETC.: bigint,  Feb 26th #Coronavirus press conference\": bigint,  France: bigint,  Humana: bigint,  I have been responsible for infecting 59: bigint,  I mean literally virus-free in 5 days.\"\": bigint,  Iran: bigint,  Kepler's Bookstore: bigint,  Khansar: bigint,  Khansari: bigint,  Khuzestan 207: bigint,  Knowledge of epidemiology. I come up with Bill Gates.\"\" @Steve_Sailer : bigint,  Kurdish Sorani  https://t.co/w3JBnojKg5 https://t.co/TGkK1XvK5A\": bigint,  MSNBC 🤣🤦‍♂️ #coronavirus https://t.co/qgFfAV4SzO\": bigint,  MTA: bigint,  Maggie: bigint,  Malaysians: bigint,  McCabe: bigint,  No guarantee.. Black or white: bigint,  O Jacob: bigint,  One Day at a Time: bigint,  PEI 1: bigint,  Ps2: bigint,  SP: bigint,  Spanish: bigint,  Spanish Flu is American Flu.\": bigint,  Stores Will Not Close. Stop Hoarding\"\" @realDonaldTrump #coronavirus https://t.co/2rPYWCDsCZ\": bigint,  Talk: bigint,  Turkey: bigint,  Turmeric: bigint,  UACs or migrants who are sick https://t.co/OMgwtjwmAV #coronavirus\": bigint,  Voltaren : bigint,  White Wine Vinegar: bigint,  Your Pop-Pop \"\" #coronavirus: bigint,  [...] and now we are finding people who have no history of contact: bigint,  addictions : bigint,  adding \"\"if Americans really want to do a humanitarian measure: bigint,  all of which were foreign enemies of the US.: bigint,  almost 70% involved a prescription or illicit opioid.\"\": bigint,  amazing.\": bigint,  an additive commonly used at aquariums to clean fish tanks.\"\"  https://t.co/L02kZ2z8eF #Arizona #coronavirus\": bigint,  an emergency physician at Rush. \"\"Everything else comes second.\"\" @msmemesha #COVID19 #coronavirus https://t.co/uPUHzlgvtn\": bigint,  an eternal kingdom is being made ready for you (Bonaventure: bigint,  and #coronavirus deaths jumped by 133 to 366. https://t.co/obLzpTCfGQ https://t.co/YjsjCF0xqW\": bigint,  and I posted yesterday at https://t.co/jISqOSguOd. We hope it will help you feel empowered during this uncertain time. https://t.co/e5B7WoBZ3n\": bigint,  and Qazvin 250 #COVIDー19 : bigint,  and Qazvin 250.: bigint,  and Trump's friend Xi went around the Deep State to give it to us. https://t.co/dWsYgP2d6i\": bigint,  and Youtube! https://t.co/iVco2dkCAm\": bigint,  and a culture of \"\"no-one loses\"\": bigint,  and a more digital presence more than we ever had before...\"\": bigint,  and a wrecked economy.\"\" https://t.co/OqBHFKBNPr #coronavirus\": bigint,  and all these things will be added unto you.\"\"#CoronaVirus #StayHome #Faith #Covid19\": bigint,  and covers for lack of expenditure on testing kits and equipment\": bigint,  and do not grieve: bigint,  and downright disgusting. He must immediately apologize. My full statement below. https://t.co/ckn50J2tZe\": bigint,  and encourage you look up the term \"\"per capita.\"\" : bigint,  and health professionals in the #COVID19 crisis : bigint,  and interest rate cuts.\"\": bigint,  and made new choices...\"\": bigint,  and more\"\" - @thisisinsider https://t.co/ZUzkwI9wGE : bigint,  and most technologically advanced society in the world: bigint,  and open WiFi hotspots for next 60 days: bigint,  and our family.\"\": bigint,  and perpetually.\"\": bigint,  and racism to distract the American people from his administration's failure to respond to the #coronavirus crisis.\"\": bigint,  and realized we needed a larger sample of bags of rice to be able to draw an accurate diagram on the living room wall. #coronavirus #lockdown https://t.co/GkKOtjhBWr\": bigint,  and sheer stupidity.: bigint,  and sick: bigint,  and the Evil Eye: Folklore of Ashkenaz\"\" for FREE due to #coronavirus! https://t.co/PkIjTYWl75\": bigint,  and the HEADACHE!! Now I wonder...?\": bigint,  and the US.: bigint,  and the number of affected countries climb even higher: bigint,  and then all of a sudden everything changed.\"\": bigint,  and this is a report from Fox News that confirms that the new drugs that the world preaches for the prevention and treatment of the #Convid19 #coronavirus #somalia https://t.co/igXkfyGN2Z\": bigint,  and touch microphone after: bigint,  and tracing and quarantining every close contact\"\"-@DrTedros\": bigint,  and two of those – 🇨🇳 and 🇰🇷 - have significantly declining epidemics\"\"-@DrTedros #coronavirus\": bigint,  and unleashed 22: bigint,  and we ensure as a society without this ridiculous panic. https://t.co/3U5ztD0dXp\": bigint,  and when the system fails: bigint,  and will trigger waves of hate crimes.\": bigint,  and you need to do it NOW: bigint,  as an HIV/AIDS reporter and got stuck in it: bigint,  as the total of deaths linked to the novel #coronavirus more than doubled in three days https://t.co/17KdIqEkU3 https://t.co/KdzXuD2t2X\": bigint,  as well as medicines.\"\"  Nicolas Mouly: bigint,  at 8/11pm with @FrancescaLaMar: bigint,  at a live White House briefing: bigint,  bars: bigint,  bars and restaurants started shutting down due to #coronavirus. What must these percentages look like today? https://t.co/4eqANIXTem https://t.co/ra8i7eR8yN\": bigint,  bars etc. are actually told they must shut? : bigint,  before promptly shaking hands.: bigint,  blame me. There is no one else who is responsible for this decision.”: bigint,  but also engaged in the transportation of Chinese passengers.\"\": bigint,  but it's not their fault.\"\" Dr. Fauci here today.\": bigint,  but remember your community: bigint,  by 3: bigint,  can reverse.: bigint,  can't go home and watch a basketball game... can't book a vacation. #coronavirus #covid19 #coronapocalypse https://t.co/fDqpgJLnXD\": bigint,  cancelled or offered virtually.\"\" Brown's #coronavirus policy: bigint,  cancelling sporting events and asking people to stay home and stay safe\"\"-@DrTedros #COVID19 #coronavirus\": bigint,  certainly skews more to the adult population.\"\"said Dr. Frank Esper: bigint,  chronically ill).\"\": bigint,  closing of businesses: bigint,  combined with social distancing measures and community mobilization: bigint,  confused his many viewers and undermined the most precious commodity of any president: bigint,  corona is very different than ebola: bigint,  count their being x7 that number more among us.: bigint,  decided to travel all over the country: bigint,  despite the #coronavirus outbreak.\"\" https://t.co/jfimO6l603\": bigint,  diagnostics: bigint,  directly addressing children during his Sunday update on #Coronavirus.: bigint,  directly addressing children during his Sunday update on #coronavirus.: bigint,  disconnected phones and internet is just not something you should be doing during this #coronavirus crisis. Shame on you. #COVID2019\": bigint,  discusses what life is like after 40 days in lockdown and how he thinks people in the UK would cope in similar circumstances\"\": bigint,  discussing the options for a #CoronavirusVaccine. Find out more here:: bigint,  drs after they're infected? : bigint,  egg yolks: bigint,  encouraging employees to have liberal sick leave policies during the #coronavirus outbreak.\": bigint,  enter recipient email and pay. Thanks to @nurtureuk for setting this up so quickly! #swindon #StaySafeStayHome #coronavirus https://t.co/kfGaQMUCMy\": bigint,  epidemiologists say: bigint,  especially for a therapy that may or may not work: bigint,  especially when CEE EU countries have implemented many actions to tackle #coronavirus\": bigint,  etc so outcomes will be disparate. It also doesn't help that testing is subjectively determined by severity of symptoms &amp; often our concerns are dismissed. https://t.co/91sSUSCVbR\": bigint,  etc that has characterized his approach https://t.co/NND2pDhPc1 https://t.co/VZrkYQ1QVE\": bigint,  etc. https://t.co/ieh7k9bACm #socialism #Bernie2020 #TrumpVirus #coronavirus #bailout #COVID19 #CDC https://t.co/6jdYJigFyQ\": bigint,  even without this corona thing: bigint,  experts said: bigint,  families &amp; individuals – can influence the trajectory of this #COVID19 epidemic”: bigint,  find an exercise video online: bigint,  flanked by @VP: bigint,  following all instructions: bigint,  food: bigint,  for people to receive care.\"\" https://t.co/xrFAqnihYR #coronavirus #covid19 @brad_polumbo in @dcexaminer citing our @courtneyatlas @senatorshoshana @BeforeChelsea\": bigint,  forced isolation\"\"  @chrislhayes @juliettekayyem  https://t.co/4HimplNR2L  /1\": bigint,  foreclosures: bigint,  friends &amp; country first.\"\" -- Pat Buchanan : bigint,  gambled r lives 4 more crime family $. https://t.co/vxXDHbaqnS https://t.co/wvA4A0jbGA\": bigint,  get your shit together.\"\" : bigint,  grandparent\"\" died today. Don't wait to take this seriously. https://t.co/sVyjAGfNXA\": bigint,  had good emergency plans and training in place and had System-Wide health IT platforms  #coronavirus #COVID19 #digitalhealth https://t.co/iCugHx0TEB\": bigint,  has gone a long way to not seeding very: bigint,  has tested positive for COVID-19. He is self-isolating in Scotland.\"\" I stated a while back: bigint,  have the ability to provide paid leave to you.\"\": bigint,  he reminds us: bigint,  he's horrified by the growing #CoronaVirus: bigint,  head distiller at John Emerald Distilling Company in Opelika: bigint,  heart disease: bigint,  horse races: bigint,  https://t.co/HldWPnRBpB #coronavirus https://t.co/b9ipgjUnVe\": bigint,  if they don't help and stay silent: bigint,  ignore that pile of bodies over in the corner: bigint,  in the studio.\"\" @JAYCEEOH and @deejayspider discuss how DJs can make the most of the #Coronavirus lockdown. 🔒 #The20Podcast: bigint,  in this fight. https://t.co/9PA5XJYUMy\": bigint,  including 99 deaths. https://t.co/5jNYMIuHbV\": bigint,  information and cooperation.\"\" - @AAzoulay : bigint,  is doing their country a service.\"\"https://t.co/t7mruqJG6Y come on Ireland we can do this. #CoronaCrisis #coronavirus\": bigint,  is how Singaporeans and us who live here: bigint,  is very “good” at keeping its people under control. : bigint,  isolate: bigint,  it will disappear.” #coronavirus #COVID19 https://t.co/ABPNGemkjF\": bigint,  it's a bad joke. They're only as good as the world allows them to be.” : bigint,  it’s that we will only defeat this terrible pandemic by working together.\"\" #SanctionsSpreadCOVID19 #SanctionsKill: bigint,  just: bigint,  laws: bigint,  let alone with the increasing risk of #COVID19\"\" says @fmspear : bigint,  let's bludgeon Trump with this new hoax.\"\": bigint,  likely due to in-home transmission.: bigint,  locked-down and afraid\"\" #CORONAVIRUS #COVID19 https://t.co/gIVMiwtETa\": bigint,  many more people will die. Some might even regard this as genocide!\": bigint,  masks: bigint,  merciless: bigint,  misfortune.\": bigint,  more than 2 metres: bigint,  most will recover.: bigint,  must be the backbone of the response in every country. This is the best hope of preventing widespread community transmission\"\"-@DrTedros #coronavirus\": bigint,  no crowds. Let #CoronaVirus settle. #KeepUsSafe https://t.co/64Ci2McWmy\": bigint,  no long trips. And above all: bigint,  no matter what @realDonaldTrump says.: bigint,  no new ideas for dealing with the #CoronaVirus: bigint,  no protective measures. #LipService @UPSPolicy @thomas_chartkin @ABC @NBCNews @CBS @FOXnews @NYTimes @WashPost https://t.co/R2T4IWqY0t\": bigint,  no way !\"\": bigint,  no wipes! @ABC @NBCNews @ABC @CNN @MSNBC @FoxNews @CBSNews https://t.co/LRRybPh5r3\": bigint,  nor a system.” (the system: bigint,  oh yeah 💃🏻🕺🏼 ?#coronavirus #CoronavirusChile #COVID2019\": bigint,  one of the sweetest people I know.\"\"\": bigint,  only to be forced to close them again because of a resurgence\"\"-@DrTedros\": bigint,  or get left out of supportive measures\"\" : bigint,  or here https://t.co/aVwGhp2Jex: bigint,  or immunocompromised people allowed\"\"? #ElderlyLivesMatter #coronavirus\": bigint,  or limit services to: bigint,  or professional stature.\"\" Sobering memo from the Columbia Surgery Chair  #coronavirus https://t.co/HI6E5g79bd\": bigint,  or unjustified acceptance that the fight is over: bigint,  our Aprons sampling: bigint,  our communities: bigint,  overthrown and destroyed by the U.S. get to sue the U.S. too... https://t.co/mnKQVq8d4J\": bigint,  papers: bigint,  paramedics: bigint,  parents out of workforce. #Insiders #coronavirus\": bigint,  people don't know what to do and they can't take action necessarily to protect themselves and those they love [against the #coronavirus]: bigint,  people should consult with doctors.\"\" #CoronaVirus https://t.co/bNuQs3UN5x\": bigint,  personnel are exhausted: bigint,  plastic pipettes: bigint,  please fill this out so neighbors can send you $! https://t.co/oLd27vtVxf #coronavirus\": bigint,  poor health care &amp; unsteady employment often bear the brunt of the pain.\"\": bigint,  poor pay: bigint,  prescription medication and human interaction\"\"-@DrTedros #COVID19\": bigint,  protect us.\": bigint,  reassess what we do and why.\"\": bigint,  right?\"\" #Iran https://t.co/yTFA1XPH9v\": bigint,  said to @NPR. https://t.co/mBkIH4KtZl\": bigint,  save lives and minimize impact\"\"-@DrTedros #COVID19 #coronavirus\": bigint,  say 'no large crowds: bigint,  saying we have tests (w/only a few available) or we can fly to the UK. Waiting till Americans die: bigint,  says @POTUS.\": bigint,  says lockdowns won't achieve anything : bigint,  scientists in China!\": bigint,  she's not stepping up...\"\": bigint,  sisters: bigint,  so are we. All life on Earth is connected: bigint,  so we're taking no chances with her\": bigint,  social services cut? Why did Theresa May say there was no magic money tree when clearly there was? #coronavirus https://t.co/C8p1YPRTfN\": bigint,  somewhere cares.\"\" @chefjoseandres how food can be a solution #coronavirus #COVID19 crisis. : bigint,  stay more than 3 feet apart: bigint,  staying put is not bad and not hard. #coronavirus #lockdown #takeonefortheteam  https://t.co/lDa4acU5T7\": bigint,  still no clue and no plan? #Merkelmussweg\": bigint,  stronger families - which support us all. https://t.co/PYyt8fW0Uz\": bigint,  support one another and emerge stronger.” https://t.co/capGl6iwmc\": bigint,  take a picture then.\"\"🙃 Full body HIIT workout ✔ Stretching❌ #SocialDistancing 😭 #coronavirus 🧐#Health 💪 https://t.co/yGJDBpde6k https://t.co/ETIB7xqy8G\": bigint,  thanking @WirvsVirusHack for organizing 2-day hackathon to find solutions to tackle #coronavirus (as the hackathon takes off with over 42: bigint,  that has never been connected to a virus. And which won't be connected to a virus unless the virus is purified\"\": bigint,  that's my own honest reaction to your tweets.\": bigint,  that’s a pretty good job we’ve done.\"\": bigint,  the 1st day of work in Metro Manila after the imposition of \"\"community quarantine\"\" on March 15. Larry Monserate Piojo: bigint,  the Chief Medical Officer: bigint,  the basic stuff. And then...#coronavirus. All of this is to say we have some new perspective. 3/\": bigint,  the dry season has left them with just ONE river with salty taste. Wondering how this community will cope during #CoronaVirus\"\":: bigint,  the fear and the panic are worse than the #coronavirus.\"\" #COVID19\": bigint,  the head of the National Institute of Allergy and Infectious Diseases: bigint,  the heart attacks: bigint,  the incentives that reward profit instead of better outcomes.\"\" : bigint,  the phrase could well apply to what people in China have been doing to win the war against the novel #coronavirus outbreak. @CCG_org #ExpatChat #COVID19\": bigint,  the police: bigint,  the pollution will stop: bigint,  their \"\"sober high school: bigint,  there has not been a challenge to our country that depends so much on our joint solidarity.\"\" : bigint,  they may be wrong. \"\" https://t.co/x1mdLbmdQc\": bigint,  this ahhh: bigint,  this is not complicated #coronavirus #auspol\": bigint,  this is our moment to prove to ourselves and a nation that in Chicago: bigint,  though: bigint,  to help tackle the economic fallout from #coronavirus.\"\"—@julianHjessop: bigint,  to help the NHS for shopping: bigint,  to implement their measures\"\"\": bigint,  tonight! TOMORROW I'll… I'll…\"\" : bigint,  treat and trace are not only the best and fastest way out of extreme social and economic restrictions – they’re also the best way to prevent them: bigint,  treat and trace are not only the best and fastest way out of extreme social and economic restrictions – they’re also the best way to prevent them\"\"-@DrTedros #COVID19 #coronavirus\": bigint,  treat and trace.: bigint,  use social distancing.\"\" https://t.co/EP1V5bNbep\": bigint,  very large numbers &amp; some small numbers too: bigint,  was \"\"screened\"\" by authorities at the airport upon arrival on March 10. He also traveled to other parts of the country. https://t.co/bozJPK4fpS https://t.co/KYjLGNBNEj\": bigint,  water: bigint,  we end up with incrementalism: bigint,  we have the knowledge and skills to beat the bug: bigint,  wear masks: bigint,  what we are witnessing is a lack of built-in resilience: bigint,  what?\"\"\": bigint,  which developed favipiravir: bigint,  who died due to the novel #coronavirus at age 60. #COVID19PH https://t.co/uniLIu6QNM\": bigint,  with a mortality rate calculated at 1%: bigint,  with its own rules: bigint,  with penalties of up to $1 million or three years in prison.\"\" #StayHomeCanada: bigint,  wondering if we're all gonna DIE or not and he's MAGAsturbating over the Fed and the stock market. That's ALL he cares about... #Trump #coronavirus\": bigint,  write him a million dollar check.\"\" -- @Steve_Sailer : bigint,  you will carry/deliver &amp; spread THE #Covid19 #VIRUS https://t.co/JXdo89btav\": bigint,  ‘to expose another human being to serious illness: bigint,  “If we cut back exports: bigint, \"\" /2\": bigint, \"\" @DeanBaker13 @EileenAppelbaum @jeffhauser &amp; @MarkWeisbrot write. #stimulus #coronavirus https://t.co/PHSFF02b3E\": bigint, \"\" @GaSecofState said in a statement.\": bigint, \"\" @Yascha_Mounk writes: https://t.co/tezZ6e4S0o\": bigint, \"\" along w/ binging \"\"Westworld\"\" &amp; \"\"30 Rock.\"\" #coronavirus #covid19 #coronatine #QuarantineLife #LosAngelesLockdown\": bigint, \"\" and announces trials of treatments for #COVID19.: bigint, \"\" endowed by our creator &amp; guaranteed by our #FoundingFathers. #Coronavirus https://t.co/0i8CR7xIZn\": bigint, \"\" said @WHO Director-General @DrTedros : bigint, \"\" says Professor @ScottBurrisPHLR. https://t.co/IrwImfTjDe\": bigint, \"\" says top Chinese respiratory expert Zhong Nanshan about the origin of the novel #coronavirus https://t.co/LSs4JxbFfZ\": bigint, \"\" state Emergency Manager Jared Moskowitz. More at https://t.co/LsxcktTjM4 #coronavirus https://t.co/1pv0YIfZ78\": bigint, '\"\" Trump says during a daily White House briefing on the #coronavirus https://t.co/nbrEiQbz4V\": bigint, 0: bigint, 000: bigint, 000 Americans.: bigint, 000 patients have been tested for #coronavirus to date. https://t.co/qXaV3tXsw6\": bigint, 000 payment to a family of four. \"\"That's bold.\"\" #coronavirus #Trump @anthonymace\": bigint, 000 people die from flu every year. The numbers are tiny. https://t.co/jJxWvLTO7S\": bigint, 000 test kids Friday.\"\": bigint, 000 ventilators.\"\": bigint, 000.: bigint, 1: bigint, 111: bigint, 12: bigint, 122 serious cases in intensive care: bigint, 13: bigint, 1410: bigint, 149: bigint, 159: bigint, 16: bigint, 17: bigint, 179: bigint, 19: bigint, 195: bigint, 2: bigint, 20: bigint, 25: bigint, 27: bigint, 28: bigint, 282: bigint, 2829: bigint, 283: bigint, 288: bigint, 3: bigint, 326 BC: bigint, 37: bigint, 38: bigint, 389: bigint, 39: bigint, 407: bigint, 42: bigint, 4263: bigint, 4264: bigint, 46: bigint, 47: bigint, 5: bigint, 53: bigint, 6: bigint, 600 pts — or 12 percent — over the course of the week.\"\" https://t.co/v2Bguh7L69\": bigint, 61: bigint, 63: bigint, 7: bigint, 78: bigint, 8: bigint, 83: bigint, 86: bigint, 900). How many are in ICU? An additional 4: bigint, 94: bigint, Clearview Social, Inc.: bigint, CoSchedule: bigint, Cyber Security Feed: bigint, Echofon: bigint, FALSE: bigint, Fenix 2: bigint, Flamingo for Android: bigint, Ground News: bigint, HBurg: bigint, Hacker Noon: bigint, Hootsuite Inc.: bigint, IFTTT: bigint, JoyOfTweets: bigint, LinkedIn: bigint, MO: bigint, Nelio Content: bigint, South Korea: bigint, Spreaker: bigint, TRUE: bigint, TweetDeck: bigint, Tweetbot for iΟS: bigint, Twidere for Android (Deprecated): bigint, Twitter Media Studio: bigint, Twitter Web App: bigint, Twitter Web Client: bigint, Twitter for Android: bigint, Twitter for Mac: bigint, Twitter for iPad: bigint, Twitter for iPhone: bigint, Twitterrific for Mac: bigint, UT: bigint, and intelligent edge will be fundamental to an overall recovery by the technology sector.\"\" #COVID19 #coronavirus #supplychain #semiconductor #IDC\": bigint, twitcle plus: bigint, viriya: bigint]"
      ]
     },
     "execution_count": 17,
     "metadata": {},
     "output_type": "execute_result"
    }
   ],
   "source": [
    "# Pivot based on source column and aggregate on retweet count\n",
    "pivot_df = df.groupBy('source').pivot('is_retweet').agg(F.count('retweet_count'))\n",
    "pivot_df"
   ]
  },
  {
   "cell_type": "code",
   "execution_count": 18,
   "id": "3c7f8981",
   "metadata": {},
   "outputs": [
    {
     "name": "stderr",
     "output_type": "stream",
     "text": [
      "/usr/lib/python3/dist-packages/scipy/__init__.py:146: UserWarning: A NumPy version >=1.17.3 and <1.25.0 is required for this version of SciPy (detected version 1.26.4\n",
      "  warnings.warn(f\"A NumPy version >={np_minversion} and <{np_maxversion}\"\n",
      "2024-03-25 23:00:54.296539: I external/local_tsl/tsl/cuda/cudart_stub.cc:32] Could not find cuda drivers on your machine, GPU will not be used.\n",
      "2024-03-25 23:00:54.429859: I external/local_tsl/tsl/cuda/cudart_stub.cc:32] Could not find cuda drivers on your machine, GPU will not be used.\n",
      "2024-03-25 23:00:54.975388: I tensorflow/core/platform/cpu_feature_guard.cc:210] This TensorFlow binary is optimized to use available CPU instructions in performance-critical operations.\n",
      "To enable the following instructions: AVX2, in other operations, rebuild TensorFlow with the appropriate compiler flags.\n",
      "2024-03-25 23:00:57.310487: W tensorflow/compiler/tf2tensorrt/utils/py_utils.cc:38] TF-TRT Warning: Could not find TensorRT\n"
     ]
    }
   ],
   "source": [
    "import numpy as np \n",
    "import pandas as pd \n",
    "import seaborn as sns \n",
    "import matplotlib.pyplot as plt\n",
    "plt.style.use('ggplot')\n",
    "from sklearn.metrics import roc_curve, auc\n",
    "from sklearn.metrics import classification_report, confusion_matrix\n",
    "import nltk\n",
    "from nltk.corpus import stopwords\n",
    "from nltk.stem import PorterStemmer \n",
    "from sklearn.model_selection import train_test_split\n",
    "from mlxtend.plotting import plot_confusion_matrix\n",
    "import matplotlib.cm as cm\n",
    "from matplotlib import rcParams\n",
    "from collections import Counter\n",
    "from nltk.tokenize import RegexpTokenizer\n",
    "import re\n",
    "from wordcloud import WordCloud\n",
    "import string\n",
    "from tensorflow.keras.layers import LSTM, Activation, Dense, Dropout, Input, Embedding\n",
    "from tensorflow.keras.models import Model\n",
    "from tensorflow.keras.optimizers import RMSprop\n",
    "from tensorflow.keras.preprocessing.text import Tokenizer\n",
    "from tensorflow.keras.preprocessing import sequence\n",
    "%matplotlib inline\n",
    "\n",
    "import warnings\n",
    "warnings.filterwarnings(\"ignore\", category=DeprecationWarning, message=\"Downloading package\") "
   ]
  },
  {
   "cell_type": "code",
   "execution_count": 19,
   "id": "d6861085",
   "metadata": {},
   "outputs": [
    {
     "name": "stderr",
     "output_type": "stream",
     "text": [
      "                                                                                \r"
     ]
    }
   ],
   "source": [
    "pandas_df = df.toPandas()\n",
    "df = pandas_df"
   ]
  },
  {
   "cell_type": "code",
   "execution_count": 20,
   "id": "d397222a",
   "metadata": {},
   "outputs": [
    {
     "data": {
      "text/plain": [
       "(671515, 10)"
      ]
     },
     "execution_count": 20,
     "metadata": {},
     "output_type": "execute_result"
    }
   ],
   "source": [
    "df.shape"
   ]
  },
  {
   "cell_type": "code",
   "execution_count": 21,
   "id": "c419320d",
   "metadata": {},
   "outputs": [
    {
     "data": {
      "text/plain": [
       "user_id               7\n",
       "status_id        176567\n",
       "status_url       207754\n",
       "created_at       213933\n",
       "screen_name      215511\n",
       "text             350063\n",
       "source           507498\n",
       "is_quote         512806\n",
       "is_retweet       514324\n",
       "retweet_count    514910\n",
       "dtype: int64"
      ]
     },
     "execution_count": 21,
     "metadata": {},
     "output_type": "execute_result"
    }
   ],
   "source": [
    "null_counts = df.isnull().sum()\n",
    "null_counts"
   ]
  },
  {
   "cell_type": "code",
   "execution_count": 22,
   "id": "424d0eee",
   "metadata": {},
   "outputs": [
    {
     "data": {
      "text/html": [
       "<div>\n",
       "<style scoped>\n",
       "    .dataframe tbody tr th:only-of-type {\n",
       "        vertical-align: middle;\n",
       "    }\n",
       "\n",
       "    .dataframe tbody tr th {\n",
       "        vertical-align: top;\n",
       "    }\n",
       "\n",
       "    .dataframe thead th {\n",
       "        text-align: right;\n",
       "    }\n",
       "</style>\n",
       "<table border=\"1\" class=\"dataframe\">\n",
       "  <thead>\n",
       "    <tr style=\"text-align: right;\">\n",
       "      <th></th>\n",
       "      <th>user_id</th>\n",
       "      <th>status_id</th>\n",
       "      <th>status_url</th>\n",
       "      <th>created_at</th>\n",
       "      <th>screen_name</th>\n",
       "      <th>text</th>\n",
       "      <th>source</th>\n",
       "      <th>is_quote</th>\n",
       "      <th>is_retweet</th>\n",
       "      <th>retweet_count</th>\n",
       "    </tr>\n",
       "  </thead>\n",
       "  <tbody>\n",
       "    <tr>\n",
       "      <th>0</th>\n",
       "      <td>750502701457440768</td>\n",
       "      <td>1235354334923276289</td>\n",
       "      <td>https://twitter.com/RocketMan6510/status/12353...</td>\n",
       "      <td>2020-03-04T23:59:59Z</td>\n",
       "      <td>RocketMan6510</td>\n",
       "      <td>Here are the 6 confirmed #coronavirus cases in...</td>\n",
       "      <td>0</td>\n",
       "      <td>0</td>\n",
       "      <td>0</td>\n",
       "      <td>0</td>\n",
       "    </tr>\n",
       "    <tr>\n",
       "      <th>1</th>\n",
       "      <td>1. Health care worker who traveled to Iran (39...</td>\n",
       "      <td>0</td>\n",
       "      <td>0</td>\n",
       "      <td>0</td>\n",
       "      <td>0</td>\n",
       "      <td>0</td>\n",
       "      <td>0</td>\n",
       "      <td>0</td>\n",
       "      <td>0</td>\n",
       "      <td>0</td>\n",
       "    </tr>\n",
       "    <tr>\n",
       "      <th>2</th>\n",
       "      <td>2. Westchester attorney (50 yrs old). Hospital...</td>\n",
       "      <td>0</td>\n",
       "      <td>0</td>\n",
       "      <td>0</td>\n",
       "      <td>0</td>\n",
       "      <td>0</td>\n",
       "      <td>0</td>\n",
       "      <td>0</td>\n",
       "      <td>0</td>\n",
       "      <td>0</td>\n",
       "    </tr>\n",
       "    <tr>\n",
       "      <th>3</th>\n",
       "      <td>3. His wife</td>\n",
       "      <td>0</td>\n",
       "      <td>0</td>\n",
       "      <td>0</td>\n",
       "      <td>0</td>\n",
       "      <td>0</td>\n",
       "      <td>0</td>\n",
       "      <td>0</td>\n",
       "      <td>0</td>\n",
       "      <td>0</td>\n",
       "    </tr>\n",
       "    <tr>\n",
       "      <th>4</th>\n",
       "      <td>4. Daughter (14 yrs old)</td>\n",
       "      <td>0</td>\n",
       "      <td>0</td>\n",
       "      <td>0</td>\n",
       "      <td>0</td>\n",
       "      <td>0</td>\n",
       "      <td>0</td>\n",
       "      <td>0</td>\n",
       "      <td>0</td>\n",
       "      <td>0</td>\n",
       "    </tr>\n",
       "    <tr>\n",
       "      <th>...</th>\n",
       "      <td>...</td>\n",
       "      <td>...</td>\n",
       "      <td>...</td>\n",
       "      <td>...</td>\n",
       "      <td>...</td>\n",
       "      <td>...</td>\n",
       "      <td>...</td>\n",
       "      <td>...</td>\n",
       "      <td>...</td>\n",
       "      <td>...</td>\n",
       "    </tr>\n",
       "    <tr>\n",
       "      <th>671510</th>\n",
       "      <td>46988738</td>\n",
       "      <td>1243682163150618624</td>\n",
       "      <td>https://twitter.com/valadon2/status/1243682163...</td>\n",
       "      <td>2020-03-27T23:31:48Z</td>\n",
       "      <td>valadon2</td>\n",
       "      <td>'The essential thing was to save the greatest ...</td>\n",
       "      <td>0</td>\n",
       "      <td>0</td>\n",
       "      <td>0</td>\n",
       "      <td>0</td>\n",
       "    </tr>\n",
       "    <tr>\n",
       "      <th>671511</th>\n",
       "      <td>Albert Camus</td>\n",
       "      <td>'The Plague' #coronavirus\"</td>\n",
       "      <td>Twitter for iPad</td>\n",
       "      <td>FALSE</td>\n",
       "      <td>TRUE</td>\n",
       "      <td>16</td>\n",
       "      <td>0</td>\n",
       "      <td>0</td>\n",
       "      <td>0</td>\n",
       "      <td>0</td>\n",
       "    </tr>\n",
       "    <tr>\n",
       "      <th>671512</th>\n",
       "      <td>1235576604488650752</td>\n",
       "      <td>1243682163117023232</td>\n",
       "      <td>https://twitter.com/bakura_yamimode/status/124...</td>\n",
       "      <td>2020-03-27T23:31:48Z</td>\n",
       "      <td>bakura_yamimode</td>\n",
       "      <td>Although we are not sitting together, be rest ...</td>\n",
       "      <td>0</td>\n",
       "      <td>0</td>\n",
       "      <td>0</td>\n",
       "      <td>0</td>\n",
       "    </tr>\n",
       "    <tr>\n",
       "      <th>671513</th>\n",
       "      <td>The novel #coronavirus does not recognise borders</td>\n",
       "      <td>thus we must rise to this challenge as nations</td>\n",
       "      <td>united. https://t.co/vBuUJnDNnU\"</td>\n",
       "      <td>Twitter for Android</td>\n",
       "      <td>FALSE</td>\n",
       "      <td>TRUE</td>\n",
       "      <td>72</td>\n",
       "      <td>0</td>\n",
       "      <td>0</td>\n",
       "      <td>0</td>\n",
       "    </tr>\n",
       "    <tr>\n",
       "      <th>671514</th>\n",
       "      <td>1135867297</td>\n",
       "      <td>1243682161900826625</td>\n",
       "      <td>https://twitter.com/CHHammad91/status/12436821...</td>\n",
       "      <td>2020-03-27T23:31:48Z</td>\n",
       "      <td>CHHammad91</td>\n",
       "      <td>#CoronavirusPandemic #Italy has risen by 968 #...</td>\n",
       "      <td>Twitter for iPhone</td>\n",
       "      <td>FALSE</td>\n",
       "      <td>FALSE</td>\n",
       "      <td>0</td>\n",
       "    </tr>\n",
       "  </tbody>\n",
       "</table>\n",
       "<p>671515 rows × 10 columns</p>\n",
       "</div>"
      ],
      "text/plain": [
       "                                                  user_id  \\\n",
       "0                                      750502701457440768   \n",
       "1       1. Health care worker who traveled to Iran (39...   \n",
       "2       2. Westchester attorney (50 yrs old). Hospital...   \n",
       "3                                             3. His wife   \n",
       "4                                4. Daughter (14 yrs old)   \n",
       "...                                                   ...   \n",
       "671510                                           46988738   \n",
       "671511                                       Albert Camus   \n",
       "671512                                1235576604488650752   \n",
       "671513  The novel #coronavirus does not recognise borders   \n",
       "671514                                         1135867297   \n",
       "\n",
       "                                              status_id  \\\n",
       "0                                   1235354334923276289   \n",
       "1                                                     0   \n",
       "2                                                     0   \n",
       "3                                                     0   \n",
       "4                                                     0   \n",
       "...                                                 ...   \n",
       "671510                              1243682163150618624   \n",
       "671511                       'The Plague' #coronavirus\"   \n",
       "671512                              1243682163117023232   \n",
       "671513   thus we must rise to this challenge as nations   \n",
       "671514                              1243682161900826625   \n",
       "\n",
       "                                               status_url  \\\n",
       "0       https://twitter.com/RocketMan6510/status/12353...   \n",
       "1                                                       0   \n",
       "2                                                       0   \n",
       "3                                                       0   \n",
       "4                                                       0   \n",
       "...                                                   ...   \n",
       "671510  https://twitter.com/valadon2/status/1243682163...   \n",
       "671511                                   Twitter for iPad   \n",
       "671512  https://twitter.com/bakura_yamimode/status/124...   \n",
       "671513                   united. https://t.co/vBuUJnDNnU\"   \n",
       "671514  https://twitter.com/CHHammad91/status/12436821...   \n",
       "\n",
       "                  created_at      screen_name  \\\n",
       "0       2020-03-04T23:59:59Z    RocketMan6510   \n",
       "1                          0                0   \n",
       "2                          0                0   \n",
       "3                          0                0   \n",
       "4                          0                0   \n",
       "...                      ...              ...   \n",
       "671510  2020-03-27T23:31:48Z         valadon2   \n",
       "671511                 FALSE             TRUE   \n",
       "671512  2020-03-27T23:31:48Z  bakura_yamimode   \n",
       "671513   Twitter for Android            FALSE   \n",
       "671514  2020-03-27T23:31:48Z       CHHammad91   \n",
       "\n",
       "                                                     text              source  \\\n",
       "0       Here are the 6 confirmed #coronavirus cases in...                   0   \n",
       "1                                                       0                   0   \n",
       "2                                                       0                   0   \n",
       "3                                                       0                   0   \n",
       "4                                                       0                   0   \n",
       "...                                                   ...                 ...   \n",
       "671510  'The essential thing was to save the greatest ...                   0   \n",
       "671511                                                 16                   0   \n",
       "671512  Although we are not sitting together, be rest ...                   0   \n",
       "671513                                               TRUE                  72   \n",
       "671514  #CoronavirusPandemic #Italy has risen by 968 #...  Twitter for iPhone   \n",
       "\n",
       "       is_quote is_retweet retweet_count  \n",
       "0             0          0             0  \n",
       "1             0          0             0  \n",
       "2             0          0             0  \n",
       "3             0          0             0  \n",
       "4             0          0             0  \n",
       "...         ...        ...           ...  \n",
       "671510        0          0             0  \n",
       "671511        0          0             0  \n",
       "671512        0          0             0  \n",
       "671513        0          0             0  \n",
       "671514    FALSE      FALSE             0  \n",
       "\n",
       "[671515 rows x 10 columns]"
      ]
     },
     "execution_count": 22,
     "metadata": {},
     "output_type": "execute_result"
    }
   ],
   "source": [
    "# Fill null values with a specific value \n",
    "df_filled = df.fillna(0)\n",
    "df_filled"
   ]
  },
  {
   "cell_type": "code",
   "execution_count": 23,
   "id": "57c1e145",
   "metadata": {},
   "outputs": [
    {
     "name": "stdout",
     "output_type": "stream",
     "text": [
      "<class 'pandas.core.frame.DataFrame'>\n",
      "RangeIndex: 671515 entries, 0 to 671514\n",
      "Data columns (total 10 columns):\n",
      " #   Column         Non-Null Count   Dtype \n",
      "---  ------         --------------   ----- \n",
      " 0   user_id        671508 non-null  object\n",
      " 1   status_id      494948 non-null  object\n",
      " 2   status_url     463761 non-null  object\n",
      " 3   created_at     457582 non-null  object\n",
      " 4   screen_name    456004 non-null  object\n",
      " 5   text           321452 non-null  object\n",
      " 6   source         164017 non-null  object\n",
      " 7   is_quote       158709 non-null  object\n",
      " 8   is_retweet     157191 non-null  object\n",
      " 9   retweet_count  156605 non-null  object\n",
      "dtypes: object(10)\n",
      "memory usage: 51.2+ MB\n",
      "None\n"
     ]
    }
   ],
   "source": [
    "print(df.info())"
   ]
  },
  {
   "cell_type": "code",
   "execution_count": 24,
   "id": "eb82d75e",
   "metadata": {},
   "outputs": [
    {
     "name": "stdout",
     "output_type": "stream",
     "text": [
      "Shape of the dataset: (671515, 10)\n"
     ]
    }
   ],
   "source": [
    "print(\"Shape of the dataset:\", df.shape)"
   ]
  },
  {
   "cell_type": "code",
   "execution_count": 25,
   "id": "6ec787a7",
   "metadata": {},
   "outputs": [
    {
     "name": "stdout",
     "output_type": "stream",
     "text": [
      "Data types of each column:\n",
      "user_id          object\n",
      "status_id        object\n",
      "status_url       object\n",
      "created_at       object\n",
      "screen_name      object\n",
      "text             object\n",
      "source           object\n",
      "is_quote         object\n",
      "is_retweet       object\n",
      "retweet_count    object\n",
      "dtype: object\n"
     ]
    }
   ],
   "source": [
    "print(\"Data types of each column:\")\n",
    "print(df.dtypes)"
   ]
  },
  {
   "cell_type": "code",
   "execution_count": 26,
   "id": "4a4f0d8a",
   "metadata": {},
   "outputs": [
    {
     "name": "stdout",
     "output_type": "stream",
     "text": [
      "Number of duplicate rows: 250376\n"
     ]
    }
   ],
   "source": [
    "print(\"Number of duplicate rows:\", df.duplicated().sum())"
   ]
  },
  {
   "cell_type": "code",
   "execution_count": 27,
   "id": "4912be9e",
   "metadata": {},
   "outputs": [],
   "source": [
    "unwanted_columns = ['user_id', 'status_id', 'status_url', 'screen_name']\n",
    "df.drop(unwanted_columns, axis=1, inplace=True)"
   ]
  },
  {
   "cell_type": "code",
   "execution_count": 28,
   "id": "deb21b29",
   "metadata": {},
   "outputs": [
    {
     "data": {
      "text/html": [
       "<div>\n",
       "<style scoped>\n",
       "    .dataframe tbody tr th:only-of-type {\n",
       "        vertical-align: middle;\n",
       "    }\n",
       "\n",
       "    .dataframe tbody tr th {\n",
       "        vertical-align: top;\n",
       "    }\n",
       "\n",
       "    .dataframe thead th {\n",
       "        text-align: right;\n",
       "    }\n",
       "</style>\n",
       "<table border=\"1\" class=\"dataframe\">\n",
       "  <thead>\n",
       "    <tr style=\"text-align: right;\">\n",
       "      <th></th>\n",
       "      <th>created_at</th>\n",
       "      <th>text</th>\n",
       "      <th>source</th>\n",
       "      <th>is_quote</th>\n",
       "      <th>is_retweet</th>\n",
       "      <th>retweet_count</th>\n",
       "    </tr>\n",
       "  </thead>\n",
       "  <tbody>\n",
       "    <tr>\n",
       "      <th>0</th>\n",
       "      <td>2020-03-04T23:59:59Z</td>\n",
       "      <td>Here are the 6 confirmed #coronavirus cases in...</td>\n",
       "      <td>None</td>\n",
       "      <td>None</td>\n",
       "      <td>None</td>\n",
       "      <td>None</td>\n",
       "    </tr>\n",
       "    <tr>\n",
       "      <th>1</th>\n",
       "      <td>None</td>\n",
       "      <td>None</td>\n",
       "      <td>None</td>\n",
       "      <td>None</td>\n",
       "      <td>None</td>\n",
       "      <td>None</td>\n",
       "    </tr>\n",
       "    <tr>\n",
       "      <th>2</th>\n",
       "      <td>None</td>\n",
       "      <td>None</td>\n",
       "      <td>None</td>\n",
       "      <td>None</td>\n",
       "      <td>None</td>\n",
       "      <td>None</td>\n",
       "    </tr>\n",
       "    <tr>\n",
       "      <th>3</th>\n",
       "      <td>None</td>\n",
       "      <td>None</td>\n",
       "      <td>None</td>\n",
       "      <td>None</td>\n",
       "      <td>None</td>\n",
       "      <td>None</td>\n",
       "    </tr>\n",
       "    <tr>\n",
       "      <th>4</th>\n",
       "      <td>None</td>\n",
       "      <td>None</td>\n",
       "      <td>None</td>\n",
       "      <td>None</td>\n",
       "      <td>None</td>\n",
       "      <td>None</td>\n",
       "    </tr>\n",
       "    <tr>\n",
       "      <th>...</th>\n",
       "      <td>...</td>\n",
       "      <td>...</td>\n",
       "      <td>...</td>\n",
       "      <td>...</td>\n",
       "      <td>...</td>\n",
       "      <td>...</td>\n",
       "    </tr>\n",
       "    <tr>\n",
       "      <th>671510</th>\n",
       "      <td>2020-03-27T23:31:48Z</td>\n",
       "      <td>'The essential thing was to save the greatest ...</td>\n",
       "      <td>None</td>\n",
       "      <td>None</td>\n",
       "      <td>None</td>\n",
       "      <td>None</td>\n",
       "    </tr>\n",
       "    <tr>\n",
       "      <th>671511</th>\n",
       "      <td>FALSE</td>\n",
       "      <td>16</td>\n",
       "      <td>None</td>\n",
       "      <td>None</td>\n",
       "      <td>None</td>\n",
       "      <td>None</td>\n",
       "    </tr>\n",
       "    <tr>\n",
       "      <th>671512</th>\n",
       "      <td>2020-03-27T23:31:48Z</td>\n",
       "      <td>Although we are not sitting together, be rest ...</td>\n",
       "      <td>None</td>\n",
       "      <td>None</td>\n",
       "      <td>None</td>\n",
       "      <td>None</td>\n",
       "    </tr>\n",
       "    <tr>\n",
       "      <th>671513</th>\n",
       "      <td>Twitter for Android</td>\n",
       "      <td>TRUE</td>\n",
       "      <td>72</td>\n",
       "      <td>None</td>\n",
       "      <td>None</td>\n",
       "      <td>None</td>\n",
       "    </tr>\n",
       "    <tr>\n",
       "      <th>671514</th>\n",
       "      <td>2020-03-27T23:31:48Z</td>\n",
       "      <td>#CoronavirusPandemic #Italy has risen by 968 #...</td>\n",
       "      <td>Twitter for iPhone</td>\n",
       "      <td>FALSE</td>\n",
       "      <td>FALSE</td>\n",
       "      <td>0</td>\n",
       "    </tr>\n",
       "  </tbody>\n",
       "</table>\n",
       "<p>671515 rows × 6 columns</p>\n",
       "</div>"
      ],
      "text/plain": [
       "                  created_at  \\\n",
       "0       2020-03-04T23:59:59Z   \n",
       "1                       None   \n",
       "2                       None   \n",
       "3                       None   \n",
       "4                       None   \n",
       "...                      ...   \n",
       "671510  2020-03-27T23:31:48Z   \n",
       "671511                 FALSE   \n",
       "671512  2020-03-27T23:31:48Z   \n",
       "671513   Twitter for Android   \n",
       "671514  2020-03-27T23:31:48Z   \n",
       "\n",
       "                                                     text              source  \\\n",
       "0       Here are the 6 confirmed #coronavirus cases in...                None   \n",
       "1                                                    None                None   \n",
       "2                                                    None                None   \n",
       "3                                                    None                None   \n",
       "4                                                    None                None   \n",
       "...                                                   ...                 ...   \n",
       "671510  'The essential thing was to save the greatest ...                None   \n",
       "671511                                                 16                None   \n",
       "671512  Although we are not sitting together, be rest ...                None   \n",
       "671513                                               TRUE                  72   \n",
       "671514  #CoronavirusPandemic #Italy has risen by 968 #...  Twitter for iPhone   \n",
       "\n",
       "       is_quote is_retweet retweet_count  \n",
       "0          None       None          None  \n",
       "1          None       None          None  \n",
       "2          None       None          None  \n",
       "3          None       None          None  \n",
       "4          None       None          None  \n",
       "...         ...        ...           ...  \n",
       "671510     None       None          None  \n",
       "671511     None       None          None  \n",
       "671512     None       None          None  \n",
       "671513     None       None          None  \n",
       "671514    FALSE      FALSE             0  \n",
       "\n",
       "[671515 rows x 6 columns]"
      ]
     },
     "execution_count": 28,
     "metadata": {},
     "output_type": "execute_result"
    }
   ],
   "source": [
    "df"
   ]
  },
  {
   "cell_type": "code",
   "execution_count": 29,
   "id": "74539a07",
   "metadata": {},
   "outputs": [],
   "source": [
    "plt.rcParams['font.family'] = 'sans-serif' "
   ]
  },
  {
   "cell_type": "code",
   "execution_count": 30,
   "id": "fad89f47",
   "metadata": {},
   "outputs": [
    {
     "data": {
      "image/png": "[encoded data removed]",
      "text/plain": [
       "<Figure size 720x432 with 1 Axes>"
      ]
     },
     "metadata": {
      "needs_background": "light"
     },
     "output_type": "display_data"
    }
   ],
   "source": [
    "import matplotlib.pyplot as plt\n",
    "\n",
    "# Sort the DataFrame by 'retweet_count' column in descending order\n",
    "df_sorted = df.sort_values(by='retweet_count', ascending=False)\n",
    "\n",
    "# Select the top 20 rows\n",
    "top_20_retweets = df_sorted.head(20)\n",
    "\n",
    "# Plot the distribution of retweet counts for the top 20\n",
    "plt.figure(figsize=(10, 6))\n",
    "plt.hist(top_20_retweets['retweet_count'], bins=10, edgecolor='black')\n",
    "plt.title('Distribution of Retweet Count (Top 20)')\n",
    "plt.xlabel('Retweet Count')\n",
    "plt.ylabel('Frequency')\n",
    "plt.show()\n"
   ]
  },
  {
   "cell_type": "code",
   "execution_count": 31,
   "id": "03a0e213",
   "metadata": {},
   "outputs": [],
   "source": [
    "# Word Frequency Analysis\n",
    "word_frequency = df['text'].str.split(expand=True).stack().value_counts()"
   ]
  },
  {
   "cell_type": "code",
   "execution_count": 32,
   "id": "cfe4ff7a",
   "metadata": {},
   "outputs": [
    {
     "name": "stdout",
     "output_type": "stream",
     "text": [
      "Top 10 most frequent words:\n",
      "the             261274\n",
      "to              194368\n",
      "#coronavirus    146580\n",
      "of              130536\n",
      "and             110977\n",
      "in              103063\n",
      "a                97244\n",
      "is               83093\n",
      "for              74188\n",
      "are              50773\n",
      "Name: count, dtype: int64\n"
     ]
    }
   ],
   "source": [
    "print(\"Top 10 most frequent words:\")\n",
    "print(word_frequency.head(10))"
   ]
  },
  {
   "cell_type": "code",
   "execution_count": 38,
   "id": "287dc175",
   "metadata": {},
   "outputs": [
    {
     "data": {
      "text/html": [
       "<div>\n",
       "<style scoped>\n",
       "    .dataframe tbody tr th:only-of-type {\n",
       "        vertical-align: middle;\n",
       "    }\n",
       "\n",
       "    .dataframe tbody tr th {\n",
       "        vertical-align: top;\n",
       "    }\n",
       "\n",
       "    .dataframe thead th {\n",
       "        text-align: right;\n",
       "    }\n",
       "</style>\n",
       "<table border=\"1\" class=\"dataframe\">\n",
       "  <thead>\n",
       "    <tr style=\"text-align: right;\">\n",
       "      <th></th>\n",
       "      <th>created_at</th>\n",
       "      <th>text</th>\n",
       "      <th>source</th>\n",
       "      <th>is_quote</th>\n",
       "      <th>is_retweet</th>\n",
       "      <th>retweet_count</th>\n",
       "    </tr>\n",
       "  </thead>\n",
       "  <tbody>\n",
       "    <tr>\n",
       "      <th>0</th>\n",
       "      <td>2020-03-04T23:59:59Z</td>\n",
       "      <td>Here are the 6 confirmed #coronavirus cases in...</td>\n",
       "      <td>None</td>\n",
       "      <td>None</td>\n",
       "      <td>None</td>\n",
       "      <td>None</td>\n",
       "    </tr>\n",
       "    <tr>\n",
       "      <th>1</th>\n",
       "      <td>None</td>\n",
       "      <td>None</td>\n",
       "      <td>None</td>\n",
       "      <td>None</td>\n",
       "      <td>None</td>\n",
       "      <td>None</td>\n",
       "    </tr>\n",
       "    <tr>\n",
       "      <th>2</th>\n",
       "      <td>None</td>\n",
       "      <td>None</td>\n",
       "      <td>None</td>\n",
       "      <td>None</td>\n",
       "      <td>None</td>\n",
       "      <td>None</td>\n",
       "    </tr>\n",
       "    <tr>\n",
       "      <th>3</th>\n",
       "      <td>None</td>\n",
       "      <td>None</td>\n",
       "      <td>None</td>\n",
       "      <td>None</td>\n",
       "      <td>None</td>\n",
       "      <td>None</td>\n",
       "    </tr>\n",
       "    <tr>\n",
       "      <th>4</th>\n",
       "      <td>None</td>\n",
       "      <td>None</td>\n",
       "      <td>None</td>\n",
       "      <td>None</td>\n",
       "      <td>None</td>\n",
       "      <td>None</td>\n",
       "    </tr>\n",
       "  </tbody>\n",
       "</table>\n",
       "</div>"
      ],
      "text/plain": [
       "             created_at                                               text  \\\n",
       "0  2020-03-04T23:59:59Z  Here are the 6 confirmed #coronavirus cases in...   \n",
       "1                  None                                               None   \n",
       "2                  None                                               None   \n",
       "3                  None                                               None   \n",
       "4                  None                                               None   \n",
       "\n",
       "  source is_quote is_retweet retweet_count  \n",
       "0   None     None       None          None  \n",
       "1   None     None       None          None  \n",
       "2   None     None       None          None  \n",
       "3   None     None       None          None  \n",
       "4   None     None       None          None  "
      ]
     },
     "execution_count": 38,
     "metadata": {},
     "output_type": "execute_result"
    }
   ],
   "source": [
    "df.head(5)"
   ]
  },
  {
   "cell_type": "code",
   "execution_count": 44,
   "id": "e6d2af24",
   "metadata": {},
   "outputs": [],
   "source": [
    "from textblob import TextBlob\n",
    "\n",
    "# Function to perform sentiment analysis and categorize sentiment into labels\n",
    "def categorize_sentiment(text):\n",
    "    # Check if text is not None\n",
    "    if text is not None:\n",
    "        sentiment_score = TextBlob(text).sentiment.polarity\n",
    "\n",
    "        if sentiment_score > 0.5:\n",
    "            return 0  # Extreme Positive\n",
    "        elif sentiment_score > 0:\n",
    "            return 1  # Positive\n",
    "        elif sentiment_score == 0:\n",
    "            return 2  # Neutral\n",
    "        elif sentiment_score >= -0.5:\n",
    "            return 3  # Negative\n",
    "        else:\n",
    "            return 4  # Extreme Negative\n",
    "    else:\n",
    "        return None  # Return None for None values\n",
    "\n",
    "# Apply sentiment analysis and categorization to each text in the DataFrame\n",
    "df['sentiment_label'] = df['text'].apply(categorize_sentiment)\n"
   ]
  },
  {
   "cell_type": "code",
   "execution_count": 45,
   "id": "986fd1a8",
   "metadata": {},
   "outputs": [
    {
     "data": {
      "text/html": [
       "<div>\n",
       "<style scoped>\n",
       "    .dataframe tbody tr th:only-of-type {\n",
       "        vertical-align: middle;\n",
       "    }\n",
       "\n",
       "    .dataframe tbody tr th {\n",
       "        vertical-align: top;\n",
       "    }\n",
       "\n",
       "    .dataframe thead th {\n",
       "        text-align: right;\n",
       "    }\n",
       "</style>\n",
       "<table border=\"1\" class=\"dataframe\">\n",
       "  <thead>\n",
       "    <tr style=\"text-align: right;\">\n",
       "      <th></th>\n",
       "      <th>created_at</th>\n",
       "      <th>text</th>\n",
       "      <th>source</th>\n",
       "      <th>is_quote</th>\n",
       "      <th>is_retweet</th>\n",
       "      <th>retweet_count</th>\n",
       "      <th>sentiment_label</th>\n",
       "    </tr>\n",
       "  </thead>\n",
       "  <tbody>\n",
       "    <tr>\n",
       "      <th>0</th>\n",
       "      <td>2020-03-04T23:59:59Z</td>\n",
       "      <td>Here are the 6 confirmed #coronavirus cases in...</td>\n",
       "      <td>None</td>\n",
       "      <td>None</td>\n",
       "      <td>None</td>\n",
       "      <td>None</td>\n",
       "      <td>1.0</td>\n",
       "    </tr>\n",
       "    <tr>\n",
       "      <th>1</th>\n",
       "      <td>None</td>\n",
       "      <td>None</td>\n",
       "      <td>None</td>\n",
       "      <td>None</td>\n",
       "      <td>None</td>\n",
       "      <td>None</td>\n",
       "      <td>NaN</td>\n",
       "    </tr>\n",
       "    <tr>\n",
       "      <th>2</th>\n",
       "      <td>None</td>\n",
       "      <td>None</td>\n",
       "      <td>None</td>\n",
       "      <td>None</td>\n",
       "      <td>None</td>\n",
       "      <td>None</td>\n",
       "      <td>NaN</td>\n",
       "    </tr>\n",
       "    <tr>\n",
       "      <th>3</th>\n",
       "      <td>None</td>\n",
       "      <td>None</td>\n",
       "      <td>None</td>\n",
       "      <td>None</td>\n",
       "      <td>None</td>\n",
       "      <td>None</td>\n",
       "      <td>NaN</td>\n",
       "    </tr>\n",
       "    <tr>\n",
       "      <th>4</th>\n",
       "      <td>None</td>\n",
       "      <td>None</td>\n",
       "      <td>None</td>\n",
       "      <td>None</td>\n",
       "      <td>None</td>\n",
       "      <td>None</td>\n",
       "      <td>NaN</td>\n",
       "    </tr>\n",
       "    <tr>\n",
       "      <th>...</th>\n",
       "      <td>...</td>\n",
       "      <td>...</td>\n",
       "      <td>...</td>\n",
       "      <td>...</td>\n",
       "      <td>...</td>\n",
       "      <td>...</td>\n",
       "      <td>...</td>\n",
       "    </tr>\n",
       "    <tr>\n",
       "      <th>671510</th>\n",
       "      <td>2020-03-27T23:31:48Z</td>\n",
       "      <td>'The essential thing was to save the greatest ...</td>\n",
       "      <td>None</td>\n",
       "      <td>None</td>\n",
       "      <td>None</td>\n",
       "      <td>None</td>\n",
       "      <td>1.0</td>\n",
       "    </tr>\n",
       "    <tr>\n",
       "      <th>671511</th>\n",
       "      <td>FALSE</td>\n",
       "      <td>16</td>\n",
       "      <td>None</td>\n",
       "      <td>None</td>\n",
       "      <td>None</td>\n",
       "      <td>None</td>\n",
       "      <td>2.0</td>\n",
       "    </tr>\n",
       "    <tr>\n",
       "      <th>671512</th>\n",
       "      <td>2020-03-27T23:31:48Z</td>\n",
       "      <td>Although we are not sitting together, be rest ...</td>\n",
       "      <td>None</td>\n",
       "      <td>None</td>\n",
       "      <td>None</td>\n",
       "      <td>None</td>\n",
       "      <td>2.0</td>\n",
       "    </tr>\n",
       "    <tr>\n",
       "      <th>671513</th>\n",
       "      <td>Twitter for Android</td>\n",
       "      <td>TRUE</td>\n",
       "      <td>72</td>\n",
       "      <td>None</td>\n",
       "      <td>None</td>\n",
       "      <td>None</td>\n",
       "      <td>1.0</td>\n",
       "    </tr>\n",
       "    <tr>\n",
       "      <th>671514</th>\n",
       "      <td>2020-03-27T23:31:48Z</td>\n",
       "      <td>#CoronavirusPandemic #Italy has risen by 968 #...</td>\n",
       "      <td>Twitter for iPhone</td>\n",
       "      <td>FALSE</td>\n",
       "      <td>FALSE</td>\n",
       "      <td>0</td>\n",
       "      <td>3.0</td>\n",
       "    </tr>\n",
       "  </tbody>\n",
       "</table>\n",
       "<p>671515 rows × 7 columns</p>\n",
       "</div>"
      ],
      "text/plain": [
       "                  created_at  \\\n",
       "0       2020-03-04T23:59:59Z   \n",
       "1                       None   \n",
       "2                       None   \n",
       "3                       None   \n",
       "4                       None   \n",
       "...                      ...   \n",
       "671510  2020-03-27T23:31:48Z   \n",
       "671511                 FALSE   \n",
       "671512  2020-03-27T23:31:48Z   \n",
       "671513   Twitter for Android   \n",
       "671514  2020-03-27T23:31:48Z   \n",
       "\n",
       "                                                     text              source  \\\n",
       "0       Here are the 6 confirmed #coronavirus cases in...                None   \n",
       "1                                                    None                None   \n",
       "2                                                    None                None   \n",
       "3                                                    None                None   \n",
       "4                                                    None                None   \n",
       "...                                                   ...                 ...   \n",
       "671510  'The essential thing was to save the greatest ...                None   \n",
       "671511                                                 16                None   \n",
       "671512  Although we are not sitting together, be rest ...                None   \n",
       "671513                                               TRUE                  72   \n",
       "671514  #CoronavirusPandemic #Italy has risen by 968 #...  Twitter for iPhone   \n",
       "\n",
       "       is_quote is_retweet retweet_count  sentiment_label  \n",
       "0          None       None          None              1.0  \n",
       "1          None       None          None              NaN  \n",
       "2          None       None          None              NaN  \n",
       "3          None       None          None              NaN  \n",
       "4          None       None          None              NaN  \n",
       "...         ...        ...           ...              ...  \n",
       "671510     None       None          None              1.0  \n",
       "671511     None       None          None              2.0  \n",
       "671512     None       None          None              2.0  \n",
       "671513     None       None          None              1.0  \n",
       "671514    FALSE      FALSE             0              3.0  \n",
       "\n",
       "[671515 rows x 7 columns]"
      ]
     },
     "execution_count": 45,
     "metadata": {},
     "output_type": "execute_result"
    }
   ],
   "source": [
    "df"
   ]
  },
  {
   "cell_type": "code",
   "execution_count": 46,
   "id": "031f7cdf",
   "metadata": {},
   "outputs": [
    {
     "data": {
      "image/png": "[encoded data removed]",
      "text/plain": [
       "<Figure size 576x576 with 1 Axes>"
      ]
     },
     "metadata": {},
     "output_type": "display_data"
    }
   ],
   "source": [
    "import matplotlib.pyplot as plt\n",
    "\n",
    "# Calculate the frequency of each tweet source\n",
    "source_counts = df['source'].value_counts()\n",
    "\n",
    "# Select the top 5 sources\n",
    "top_sources = source_counts.head(5)\n",
    "\n",
    "# Plot a pie chart\n",
    "plt.figure(figsize=(8, 8))\n",
    "plt.pie(top_sources, labels=top_sources.index, autopct='%1.1f%%', startangle=140)\n",
    "plt.title('Distribution of Top 10 Tweet Sources')\n",
    "plt.axis('equal')  \n",
    "plt.show()"
   ]
  },
  {
   "cell_type": "code",
   "execution_count": 50,
   "id": "6ad35112",
   "metadata": {},
   "outputs": [],
   "source": [
    "df=df[['text','sentiment_label']]"
   ]
  },
  {
   "cell_type": "code",
   "execution_count": 51,
   "id": "f5f8fcda",
   "metadata": {},
   "outputs": [],
   "source": [
    "df.loc[df['sentiment_label'] == 4, 'sentiment_label'] = 1"
   ]
  },
  {
   "cell_type": "code",
   "execution_count": 52,
   "id": "137b1d07",
   "metadata": {},
   "outputs": [],
   "source": [
    "df_pos = df[df['sentiment_label'] == 1]\n",
    "df_neg = df[df['sentiment_label'] == 0]"
   ]
  },
  {
   "cell_type": "code",
   "execution_count": 53,
   "id": "d858b5ea",
   "metadata": {},
   "outputs": [
    {
     "data": {
      "text/html": [
       "<div>\n",
       "<style scoped>\n",
       "    .dataframe tbody tr th:only-of-type {\n",
       "        vertical-align: middle;\n",
       "    }\n",
       "\n",
       "    .dataframe tbody tr th {\n",
       "        vertical-align: top;\n",
       "    }\n",
       "\n",
       "    .dataframe thead th {\n",
       "        text-align: right;\n",
       "    }\n",
       "</style>\n",
       "<table border=\"1\" class=\"dataframe\">\n",
       "  <thead>\n",
       "    <tr style=\"text-align: right;\">\n",
       "      <th></th>\n",
       "      <th>text</th>\n",
       "      <th>sentiment_label</th>\n",
       "    </tr>\n",
       "  </thead>\n",
       "  <tbody>\n",
       "    <tr>\n",
       "      <th>0</th>\n",
       "      <td>Here are the 6 confirmed #coronavirus cases in...</td>\n",
       "      <td>1.0</td>\n",
       "    </tr>\n",
       "    <tr>\n",
       "      <th>10</th>\n",
       "      <td>Yes, #coronavirus is a big concern, but some e...</td>\n",
       "      <td>1.0</td>\n",
       "    </tr>\n",
       "    <tr>\n",
       "      <th>26</th>\n",
       "      <td>Good news — I just voted to pass emergency Cor...</td>\n",
       "      <td>1.0</td>\n",
       "    </tr>\n",
       "    <tr>\n",
       "      <th>27</th>\n",
       "      <td>BREAKING NEWS: New case being reported in LA o...</td>\n",
       "      <td>1.0</td>\n",
       "    </tr>\n",
       "    <tr>\n",
       "      <th>34</th>\n",
       "      <td>The new #coronavirus has killed about 3.4% of ...</td>\n",
       "      <td>1.0</td>\n",
       "    </tr>\n",
       "    <tr>\n",
       "      <th>...</th>\n",
       "      <td>...</td>\n",
       "      <td>...</td>\n",
       "    </tr>\n",
       "    <tr>\n",
       "      <th>671504</th>\n",
       "      <td>The protests are becoming violent as more poli...</td>\n",
       "      <td>1.0</td>\n",
       "    </tr>\n",
       "    <tr>\n",
       "      <th>671508</th>\n",
       "      <td>Open roads as a result of the #coronavirus is ...</td>\n",
       "      <td>1.0</td>\n",
       "    </tr>\n",
       "    <tr>\n",
       "      <th>671509</th>\n",
       "      <td>Republican Attorneys General push forward with...</td>\n",
       "      <td>1.0</td>\n",
       "    </tr>\n",
       "    <tr>\n",
       "      <th>671510</th>\n",
       "      <td>'The essential thing was to save the greatest ...</td>\n",
       "      <td>1.0</td>\n",
       "    </tr>\n",
       "    <tr>\n",
       "      <th>671513</th>\n",
       "      <td>TRUE</td>\n",
       "      <td>1.0</td>\n",
       "    </tr>\n",
       "  </tbody>\n",
       "</table>\n",
       "<p>120480 rows × 2 columns</p>\n",
       "</div>"
      ],
      "text/plain": [
       "                                                     text  sentiment_label\n",
       "0       Here are the 6 confirmed #coronavirus cases in...              1.0\n",
       "10      Yes, #coronavirus is a big concern, but some e...              1.0\n",
       "26      Good news — I just voted to pass emergency Cor...              1.0\n",
       "27      BREAKING NEWS: New case being reported in LA o...              1.0\n",
       "34      The new #coronavirus has killed about 3.4% of ...              1.0\n",
       "...                                                   ...              ...\n",
       "671504  The protests are becoming violent as more poli...              1.0\n",
       "671508  Open roads as a result of the #coronavirus is ...              1.0\n",
       "671509  Republican Attorneys General push forward with...              1.0\n",
       "671510  'The essential thing was to save the greatest ...              1.0\n",
       "671513                                               TRUE              1.0\n",
       "\n",
       "[120480 rows x 2 columns]"
      ]
     },
     "execution_count": 53,
     "metadata": {},
     "output_type": "execute_result"
    }
   ],
   "source": [
    "df_pos"
   ]
  },
  {
   "cell_type": "code",
   "execution_count": 54,
   "id": "d23f8084",
   "metadata": {},
   "outputs": [
    {
     "data": {
      "text/html": [
       "<div>\n",
       "<style scoped>\n",
       "    .dataframe tbody tr th:only-of-type {\n",
       "        vertical-align: middle;\n",
       "    }\n",
       "\n",
       "    .dataframe tbody tr th {\n",
       "        vertical-align: top;\n",
       "    }\n",
       "\n",
       "    .dataframe thead th {\n",
       "        text-align: right;\n",
       "    }\n",
       "</style>\n",
       "<table border=\"1\" class=\"dataframe\">\n",
       "  <thead>\n",
       "    <tr style=\"text-align: right;\">\n",
       "      <th></th>\n",
       "      <th>text</th>\n",
       "      <th>sentiment_label</th>\n",
       "    </tr>\n",
       "  </thead>\n",
       "  <tbody>\n",
       "    <tr>\n",
       "      <th>75</th>\n",
       "      <td>Being happy, laughing and listening to music i...</td>\n",
       "      <td>0.0</td>\n",
       "    </tr>\n",
       "    <tr>\n",
       "      <th>119</th>\n",
       "      <td>America's extraordinary success under Presiden...</td>\n",
       "      <td>0.0</td>\n",
       "    </tr>\n",
       "    <tr>\n",
       "      <th>284</th>\n",
       "      <td>@Uber now would be a good time to respect driv...</td>\n",
       "      <td>0.0</td>\n",
       "    </tr>\n",
       "    <tr>\n",
       "      <th>338</th>\n",
       "      <td>Now more than ever it’s important to stay calm...</td>\n",
       "      <td>0.0</td>\n",
       "    </tr>\n",
       "    <tr>\n",
       "      <th>454</th>\n",
       "      <td>By The Lord Jesus Christ, Because Sin &amp;amp; Wi...</td>\n",
       "      <td>0.0</td>\n",
       "    </tr>\n",
       "    <tr>\n",
       "      <th>...</th>\n",
       "      <td>...</td>\n",
       "      <td>...</td>\n",
       "    </tr>\n",
       "    <tr>\n",
       "      <th>671292</th>\n",
       "      <td>@hoosier_patrick @Amy_Siskind And yet his appr...</td>\n",
       "      <td>0.0</td>\n",
       "    </tr>\n",
       "    <tr>\n",
       "      <th>671293</th>\n",
       "      <td>China is the top national security threat to t...</td>\n",
       "      <td>0.0</td>\n",
       "    </tr>\n",
       "    <tr>\n",
       "      <th>671326</th>\n",
       "      <td>GOOD NEWS about the #coronavirus:</td>\n",
       "      <td>0.0</td>\n",
       "    </tr>\n",
       "    <tr>\n",
       "      <th>671338</th>\n",
       "      <td>It’s the weekend! We’d like to remind everyone...</td>\n",
       "      <td>0.0</td>\n",
       "    </tr>\n",
       "    <tr>\n",
       "      <th>671445</th>\n",
       "      <td>When we get through #coronavirus (and we will)...</td>\n",
       "      <td>0.0</td>\n",
       "    </tr>\n",
       "  </tbody>\n",
       "</table>\n",
       "<p>9387 rows × 2 columns</p>\n",
       "</div>"
      ],
      "text/plain": [
       "                                                     text  sentiment_label\n",
       "75      Being happy, laughing and listening to music i...              0.0\n",
       "119     America's extraordinary success under Presiden...              0.0\n",
       "284     @Uber now would be a good time to respect driv...              0.0\n",
       "338     Now more than ever it’s important to stay calm...              0.0\n",
       "454     By The Lord Jesus Christ, Because Sin &amp; Wi...              0.0\n",
       "...                                                   ...              ...\n",
       "671292  @hoosier_patrick @Amy_Siskind And yet his appr...              0.0\n",
       "671293  China is the top national security threat to t...              0.0\n",
       "671326                 GOOD NEWS about the #coronavirus:               0.0\n",
       "671338  It’s the weekend! We’d like to remind everyone...              0.0\n",
       "671445  When we get through #coronavirus (and we will)...              0.0\n",
       "\n",
       "[9387 rows x 2 columns]"
      ]
     },
     "execution_count": 54,
     "metadata": {},
     "output_type": "execute_result"
    }
   ],
   "source": [
    "df_neg"
   ]
  },
  {
   "cell_type": "code",
   "execution_count": 55,
   "id": "2ef8408f",
   "metadata": {},
   "outputs": [],
   "source": [
    "df_pos = df_pos.iloc[:int(36000)]\n",
    "df_neg = df_neg.iloc[:int(36000)]"
   ]
  },
  {
   "cell_type": "code",
   "execution_count": 56,
   "id": "b2dee31e",
   "metadata": {},
   "outputs": [],
   "source": [
    "df = pd.concat([df_pos, df_neg])"
   ]
  },
  {
   "cell_type": "code",
   "execution_count": 57,
   "id": "abf9350e",
   "metadata": {},
   "outputs": [],
   "source": [
    "df['sentiment_label'] = df['sentiment_label'].astype(str).str.lower()"
   ]
  },
  {
   "cell_type": "code",
   "execution_count": 58,
   "id": "93c6435e",
   "metadata": {},
   "outputs": [
    {
     "data": {
      "text/plain": [
       "671292    @hoosier_patrick @Amy_Siskind And yet his appr...\n",
       "671293    China is the top national security threat to t...\n",
       "671326                   GOOD NEWS about the #coronavirus: \n",
       "671338    It’s the weekend! We’d like to remind everyone...\n",
       "671445    When we get through #coronavirus (and we will)...\n",
       "Name: text, dtype: object"
      ]
     },
     "execution_count": 58,
     "metadata": {},
     "output_type": "execute_result"
    }
   ],
   "source": [
    "df['text'].tail()"
   ]
  },
  {
   "cell_type": "code",
   "execution_count": 60,
   "id": "e3357fa0",
   "metadata": {},
   "outputs": [
    {
     "name": "stderr",
     "output_type": "stream",
     "text": [
      "[nltk_data] Downloading package stopwords to /home/hduser/nltk_data...\n",
      "[nltk_data]   Unzipping corpora/stopwords.zip.\n"
     ]
    },
    {
     "data": {
      "text/plain": [
       "True"
      ]
     },
     "execution_count": 60,
     "metadata": {},
     "output_type": "execute_result"
    }
   ],
   "source": [
    "import nltk\n",
    "nltk.download('stopwords')"
   ]
  },
  {
   "cell_type": "code",
   "execution_count": 61,
   "id": "7c1d63f0",
   "metadata": {},
   "outputs": [],
   "source": [
    "stopwords_list = stopwords.words('english')"
   ]
  },
  {
   "cell_type": "code",
   "execution_count": 62,
   "id": "ab648501",
   "metadata": {},
   "outputs": [
    {
     "data": {
      "text/plain": [
       "\"i, me, my, myself, we, our, ours, ourselves, you, you're, you've, you'll, you'd, your, yours, yourself, yourselves, he, him, his, himself, she, she's, her, hers, herself, it, it's, its, itself, they, them, their, theirs, themselves, what, which, who, whom, this, that, that'll, these, those, am, is, are, was, were, be, been, being, have, has, had, having, do, does, did, doing, a, an, the, and, but, if, or, because, as, until, while, of, at, by, for, with, about, against, between, into, through, during, before, after, above, below, to, from, up, down, in, out, on, off, over, under, again, further, then, once, here, there, when, where, why, how, all, any, both, each, few, more, most, other, some, such, no, nor, not, only, own, same, so, than, too, very, s, t, can, will, just, don, don't, should, should've, now, d, ll, m, o, re, ve, y, ain, aren, aren't, couldn, couldn't, didn, didn't, doesn, doesn't, hadn, hadn't, hasn, hasn't, haven, haven't, isn, isn't, ma, mightn, mightn't, mustn, mustn't, needn, needn't, shan, shan't, shouldn, shouldn't, wasn, wasn't, weren, weren't, won, won't, wouldn, wouldn't\""
      ]
     },
     "execution_count": 62,
     "metadata": {},
     "output_type": "execute_result"
    }
   ],
   "source": [
    "from nltk.corpus import stopwords\n",
    "\", \".join(stopwords.words('english'))"
   ]
  },
  {
   "cell_type": "code",
   "execution_count": 63,
   "id": "5b8c454e",
   "metadata": {},
   "outputs": [],
   "source": [
    "# Function to remove stopwords\n",
    "STOPWORDS = set(stopwords.words('english'))\n",
    "def cleaning_stopwords(text):\n",
    "    return \" \".join([word for word in str(text).split() if word not in STOPWORDS])\n",
    "\n",
    "# Function to remove punctuation\n",
    "english_punctuations = string.punctuation\n",
    "punctuations_list = english_punctuations\n",
    "def cleaning_punctuations(text):\n",
    "    translator = str.maketrans('', '', punctuations_list)\n",
    "    return text.translate(translator)\n",
    "\n",
    "# Function to remove repeating characters\n",
    "def cleaning_repeating_char(text):\n",
    "    return re.sub(r'(.)\\1+', r'\\1', text)\n",
    "\n",
    "# Function to remove email addresses\n",
    "def cleaning_email(data):\n",
    "    return re.sub('@[^\\s]+', ' ', data)\n",
    "\n",
    "# Function to remove URLs\n",
    "def cleaning_URLs(text):\n",
    "    return re.sub('((www\\.[^\\s]+)|(https?://[^\\s]+))', ' ', text)\n",
    "\n",
    "# Function to remove numbers\n",
    "def cleaning_numbers(df):\n",
    "    return re.sub('[0-9]+', '', df)\n",
    "\n",
    "# Function for tokenization\n",
    "tokenizer = RegexpTokenizer(r'\\w+')\n",
    "\n",
    "# Function for stemming\n",
    "st = nltk.PorterStemmer()\n",
    "def stemming_on_text(df):\n",
    "    text = [st.stem(word) for word in df]\n",
    "    return df\n",
    "\n",
    "# Function for lemmatization\n",
    "lm = nltk.WordNetLemmatizer()\n",
    "def lemmatizer_on_text(df):\n",
    "    text = [lm.lemmatize(word) for word in df]\n",
    "    return df"
   ]
  },
  {
   "cell_type": "code",
   "execution_count": 65,
   "id": "09a54f2c",
   "metadata": {},
   "outputs": [
    {
     "name": "stderr",
     "output_type": "stream",
     "text": [
      "[nltk_data] Downloading package wordnet to /home/hduser/nltk_data...\n"
     ]
    },
    {
     "data": {
      "text/plain": [
       "True"
      ]
     },
     "execution_count": 65,
     "metadata": {},
     "output_type": "execute_result"
    }
   ],
   "source": [
    "import nltk\n",
    "nltk.download('wordnet')"
   ]
  },
  {
   "cell_type": "code",
   "execution_count": 66,
   "id": "9a1f4b5f",
   "metadata": {},
   "outputs": [],
   "source": [
    "# Apply all the cleaning functions\n",
    "df['text'] = df['text'].apply(lambda text: cleaning_stopwords(text))\n",
    "df['text'] = df['text'].apply(lambda x: cleaning_punctuations(x))\n",
    "df['text'] = df['text'].apply(lambda x: cleaning_repeating_char(x))\n",
    "df['text'] = df['text'].apply(lambda x: cleaning_email(x))\n",
    "df['text'] = df['text'].apply(lambda x: cleaning_URLs(x))\n",
    "df['text'] = df['text'].apply(lambda x: cleaning_numbers(x))\n",
    "df['text'] = df['text'].apply(tokenizer.tokenize)\n",
    "df['text'] = df['text'].apply(lambda x: stemming_on_text(x))\n",
    "df['text'] = df['text'].apply(lambda x: lemmatizer_on_text(x))\n"
   ]
  },
  {
   "cell_type": "code",
   "execution_count": 67,
   "id": "1f3ac37e",
   "metadata": {},
   "outputs": [
    {
     "name": "stdout",
     "output_type": "stream",
     "text": [
      "0          [Here, confirmed, coronavirus, cases, New, York]\n",
      "10        [Yes, coronavirus, big, concern, experts, cont...\n",
      "26        [God, news, I, voted, pas, emergency, Coronavi...\n",
      "27        [BREAKING, NEWS, New, case, reported, LA, indi...\n",
      "34        [The, new, coronavirus, kiled, confirmed, case...\n",
      "                                ...                        \n",
      "671292    [hosierpatrick, AmySiskind, And, yet, aproval,...\n",
      "671293    [China, top, national, security, threat, Unite...\n",
      "671326                             [GOD, NEWS, coronavirus]\n",
      "671338    [It, s, wekend, We, d, like, remind, everyone,...\n",
      "671445    [When, get, coronavirus, and, wil, we, l, cola...\n",
      "Name: text, Length: 45387, dtype: object\n"
     ]
    }
   ],
   "source": [
    "print(df['text'])"
   ]
  },
  {
   "cell_type": "code",
   "execution_count": 68,
   "id": "0dc059ff",
   "metadata": {},
   "outputs": [],
   "source": [
    "X=df.text\n",
    "y=df.sentiment_label"
   ]
  },
  {
   "cell_type": "code",
   "execution_count": 69,
   "id": "f636743d",
   "metadata": {},
   "outputs": [],
   "source": [
    "max_len = 500\n",
    "tok = Tokenizer(num_words=2000)\n",
    "tok.fit_on_texts(X)\n",
    "sequences = tok.texts_to_sequences(X)\n",
    "sequences_matrix = sequence.pad_sequences(sequences,maxlen=max_len)\n"
   ]
  },
  {
   "cell_type": "code",
   "execution_count": 70,
   "id": "b2a2b037",
   "metadata": {},
   "outputs": [
    {
     "data": {
      "text/plain": [
       "(45387, 500)"
      ]
     },
     "execution_count": 70,
     "metadata": {},
     "output_type": "execute_result"
    }
   ],
   "source": [
    "sequences_matrix.shape"
   ]
  },
  {
   "cell_type": "code",
   "execution_count": 71,
   "id": "ac8c3c20",
   "metadata": {},
   "outputs": [],
   "source": [
    "X_train, X_test, Y_train, Y_test = train_test_split(sequences_matrix, y, test_size=0.3, random_state=2)"
   ]
  },
  {
   "cell_type": "code",
   "execution_count": 73,
   "id": "613f2bba",
   "metadata": {},
   "outputs": [],
   "source": [
    "\n",
    "Y_train = Y_train.astype(float)  \n",
    "Y_train = np.round(Y_train).astype(int)  \n"
   ]
  },
  {
   "cell_type": "code",
   "execution_count": 74,
   "id": "bbe898d0",
   "metadata": {},
   "outputs": [],
   "source": [
    "Y_train = Y_train.astype(int)"
   ]
  },
  {
   "cell_type": "code",
   "execution_count": 79,
   "id": "3ba651f8",
   "metadata": {},
   "outputs": [],
   "source": [
    "def tensorflow_based_model(): \n",
    "    inputs = Input(name='inputs', shape=[max_len])  # step1\n",
    "    layer = Embedding(2000, 50)(inputs)  # step2 (removed input_length)\n",
    "    layer = LSTM(64)(layer)  # step3\n",
    "    layer = Dense(256, name='FC1')(layer)  # step4\n",
    "    layer = Activation('relu')(layer)  # step5\n",
    "    layer = Dropout(0.5)(layer)  # step6\n",
    "    layer = Dense(1, name='out_layer')(layer)  # step7\n",
    "    layer = Activation('sigmoid')(layer)  # step8\n",
    "    model = Model(inputs=inputs, outputs=layer)  # step9\n",
    "    return model"
   ]
  },
  {
   "cell_type": "code",
   "execution_count": 80,
   "id": "d828af4a",
   "metadata": {},
   "outputs": [],
   "source": [
    "model = tensorflow_based_model()\n",
    "model.compile(loss='binary_crossentropy', optimizer=RMSprop(), metrics=['accuracy'])"
   ]
  },
  {
   "cell_type": "code",
   "execution_count": 81,
   "id": "4dc59744",
   "metadata": {},
   "outputs": [
    {
     "name": "stderr",
     "output_type": "stream",
     "text": [
      "2024-03-25 23:24:31.617331: W external/local_tsl/tsl/framework/cpu_allocator_impl.cc:83] Allocation of 57186000 exceeds 10% of free system memory.\n"
     ]
    },
    {
     "name": "stdout",
     "output_type": "stream",
     "text": [
      "\u001b[1m358/358\u001b[0m \u001b[32m━━━━━━━━━━━━━━━━━━━━\u001b[0m\u001b[37m\u001b[0m \u001b[1m153s\u001b[0m 419ms/step - accuracy: 0.8321 - loss: 0.4175 - val_accuracy: 0.9304 - val_loss: 0.1669\n",
      "Training finished !!\n"
     ]
    }
   ],
   "source": [
    "history=model.fit(X_train,Y_train,batch_size=80,epochs=1, validation_split=0.1)# here we are starting the training of model by feeding the training data\n",
    "print('Training finished !!')"
   ]
  },
  {
   "cell_type": "code",
   "execution_count": 98,
   "id": "369a9c5f",
   "metadata": {},
   "outputs": [
    {
     "name": "stdout",
     "output_type": "stream",
     "text": [
      "\u001b[1m426/426\u001b[0m \u001b[32m━━━━━━━━━━━━━━━━━━━━\u001b[0m\u001b[37m\u001b[0m \u001b[1m32s\u001b[0m 74ms/step\n",
      "Confusion Matrix:\n",
      "[[ 2513   338]\n",
      " [  575 10191]]\n",
      "\n",
      "Final Accuracy Score: 0.9329514577366527\n"
     ]
    }
   ],
   "source": [
    "from sklearn.metrics import confusion_matrix, accuracy_score\n",
    "\n",
    "# Convert ground truth labels to integers\n",
    "Y_test_int = Y_test.astype(float).round().astype(int)\n",
    "\n",
    "# Predict class probabilities for test data\n",
    "Y_pred_prob = model.predict(X_test)\n",
    "\n",
    "# Convert probabilities to binary class labels\n",
    "Y_pred = (Y_pred_prob > 0.5).astype(int)\n",
    "\n",
    "# Calculate confusion matrix\n",
    "cm = confusion_matrix(Y_test_int, Y_pred)\n",
    "\n",
    "# Calculate final accuracy score\n",
    "accuracy = accuracy_score(Y_test_int, Y_pred)\n",
    "\n",
    "print(\"Confusion Matrix:\")\n",
    "print(cm)\n",
    "print(\"\\nFinal Accuracy Score:\", accuracy)\n"
   ]
  },
  {
   "cell_type": "code",
   "execution_count": null,
   "id": "d4fec0e7",
   "metadata": {},
   "outputs": [],
   "source": []
  }
 ],
 "metadata": {
  "kernelspec": {
   "display_name": "Python 3 (ipykernel)",
   "language": "python",
   "name": "python3"
  },
  "language_info": {
   "codemirror_mode": {
    "name": "ipython",
    "version": 3
   },
   "file_extension": ".py",
   "mimetype": "text/x-python",
   "name": "python",
   "nbconvert_exporter": "python",
   "pygments_lexer": "ipython3",
   "version": "3.10.12"
  }
 },
 "nbformat": 4,
 "nbformat_minor": 5
}
