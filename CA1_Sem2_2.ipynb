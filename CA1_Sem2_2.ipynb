{
 "cells": [
  {
   "cell_type": "code",
   "execution_count": 38,
   "id": "c803fcea",
   "metadata": {},
   "outputs": [],
   "source": [
    "import pandas as pd \n",
    "import numpy as np \n",
    "from textblob import TextBlob\n",
    "import warnings\n",
    "warnings.filterwarnings(\"ignore\", category=DeprecationWarning, message=\"Downloading package\") "
   ]
  },
  {
   "cell_type": "code",
   "execution_count": 39,
   "id": "353c3613",
   "metadata": {},
   "outputs": [
    {
     "name": "stdout",
     "output_type": "stream",
     "text": [
      "Requirement already satisfied: textblob in c:\\users\\doddi\\anaconda3\\lib\\site-packages (0.18.0.post0)Note: you may need to restart the kernel to use updated packages.\n",
      "\n",
      "Requirement already satisfied: nltk>=3.8 in c:\\users\\doddi\\anaconda3\\lib\\site-packages (from textblob) (3.8.1)\n",
      "Requirement already satisfied: click in c:\\users\\doddi\\anaconda3\\lib\\site-packages (from nltk>=3.8->textblob) (8.0.4)\n",
      "Requirement already satisfied: joblib in c:\\users\\doddi\\anaconda3\\lib\\site-packages (from nltk>=3.8->textblob) (1.2.0)\n",
      "Requirement already satisfied: regex>=2021.8.3 in c:\\users\\doddi\\anaconda3\\lib\\site-packages (from nltk>=3.8->textblob) (2022.7.9)\n",
      "Requirement already satisfied: tqdm in c:\\users\\doddi\\anaconda3\\lib\\site-packages (from nltk>=3.8->textblob) (4.65.0)\n",
      "Requirement already satisfied: colorama in c:\\users\\doddi\\anaconda3\\lib\\site-packages (from click->nltk>=3.8->textblob) (0.4.6)\n"
     ]
    }
   ],
   "source": [
    "pip install textblob"
   ]
  },
  {
   "cell_type": "code",
   "execution_count": 40,
   "id": "20b96cd1",
   "metadata": {},
   "outputs": [],
   "source": [
    "df = pd.read_csv(\"en_coronavirus_03_04_2020_thru_03_27_2020.csv\")"
   ]
  },
  {
   "cell_type": "code",
   "execution_count": 41,
   "id": "2a7d1f65",
   "metadata": {},
   "outputs": [
    {
     "data": {
      "text/html": [
       "<div>\n",
       "<style scoped>\n",
       "    .dataframe tbody tr th:only-of-type {\n",
       "        vertical-align: middle;\n",
       "    }\n",
       "\n",
       "    .dataframe tbody tr th {\n",
       "        vertical-align: top;\n",
       "    }\n",
       "\n",
       "    .dataframe thead th {\n",
       "        text-align: right;\n",
       "    }\n",
       "</style>\n",
       "<table border=\"1\" class=\"dataframe\">\n",
       "  <thead>\n",
       "    <tr style=\"text-align: right;\">\n",
       "      <th></th>\n",
       "      <th>user_id</th>\n",
       "      <th>status_id</th>\n",
       "      <th>status_url</th>\n",
       "      <th>created_at</th>\n",
       "      <th>screen_name</th>\n",
       "      <th>text</th>\n",
       "      <th>source</th>\n",
       "      <th>is_quote</th>\n",
       "      <th>is_retweet</th>\n",
       "      <th>retweet_count</th>\n",
       "    </tr>\n",
       "  </thead>\n",
       "  <tbody>\n",
       "    <tr>\n",
       "      <th>0</th>\n",
       "      <td>750502701457440768</td>\n",
       "      <td>1235354334923276289</td>\n",
       "      <td>https://twitter.com/RocketMan6510/status/12353...</td>\n",
       "      <td>2020-03-04T23:59:59Z</td>\n",
       "      <td>RocketMan6510</td>\n",
       "      <td>Here are the 6 confirmed #coronavirus cases in...</td>\n",
       "      <td>Twitter Web App</td>\n",
       "      <td>False</td>\n",
       "      <td>True</td>\n",
       "      <td>399</td>\n",
       "    </tr>\n",
       "    <tr>\n",
       "      <th>1</th>\n",
       "      <td>1694554160</td>\n",
       "      <td>1235354333602107393</td>\n",
       "      <td>https://twitter.com/mariomoraes51/status/12353...</td>\n",
       "      <td>2020-03-04T23:59:59Z</td>\n",
       "      <td>mariomoraes51</td>\n",
       "      <td>Find out how #ICT is playing a key role in hea...</td>\n",
       "      <td>Twitter for iPhone</td>\n",
       "      <td>False</td>\n",
       "      <td>True</td>\n",
       "      <td>422</td>\n",
       "    </tr>\n",
       "    <tr>\n",
       "      <th>2</th>\n",
       "      <td>866954221</td>\n",
       "      <td>1235354332842901506</td>\n",
       "      <td>https://twitter.com/Kath60276430/status/123535...</td>\n",
       "      <td>2020-03-04T23:59:59Z</td>\n",
       "      <td>Kath60276430</td>\n",
       "      <td>@WHO These #coronavirus case &amp;amp; death count...</td>\n",
       "      <td>Twitter for Android</td>\n",
       "      <td>False</td>\n",
       "      <td>True</td>\n",
       "      <td>69</td>\n",
       "    </tr>\n",
       "    <tr>\n",
       "      <th>3</th>\n",
       "      <td>866954221</td>\n",
       "      <td>1235353059766697984</td>\n",
       "      <td>https://twitter.com/Kath60276430/status/123535...</td>\n",
       "      <td>2020-03-04T23:54:55Z</td>\n",
       "      <td>Kath60276430</td>\n",
       "      <td>Yes, #coronavirus is a big concern, but some e...</td>\n",
       "      <td>Twitter for Android</td>\n",
       "      <td>False</td>\n",
       "      <td>True</td>\n",
       "      <td>480</td>\n",
       "    </tr>\n",
       "    <tr>\n",
       "      <th>4</th>\n",
       "      <td>866954221</td>\n",
       "      <td>1235354283589210112</td>\n",
       "      <td>https://twitter.com/Kath60276430/status/123535...</td>\n",
       "      <td>2020-03-04T23:59:47Z</td>\n",
       "      <td>Kath60276430</td>\n",
       "      <td>Today's #coronavirus recap:\\n\\n-93,164 confirm...</td>\n",
       "      <td>Twitter for Android</td>\n",
       "      <td>False</td>\n",
       "      <td>True</td>\n",
       "      <td>1880</td>\n",
       "    </tr>\n",
       "  </tbody>\n",
       "</table>\n",
       "</div>"
      ],
      "text/plain": [
       "              user_id            status_id  \\\n",
       "0  750502701457440768  1235354334923276289   \n",
       "1          1694554160  1235354333602107393   \n",
       "2           866954221  1235354332842901506   \n",
       "3           866954221  1235353059766697984   \n",
       "4           866954221  1235354283589210112   \n",
       "\n",
       "                                          status_url            created_at  \\\n",
       "0  https://twitter.com/RocketMan6510/status/12353...  2020-03-04T23:59:59Z   \n",
       "1  https://twitter.com/mariomoraes51/status/12353...  2020-03-04T23:59:59Z   \n",
       "2  https://twitter.com/Kath60276430/status/123535...  2020-03-04T23:59:59Z   \n",
       "3  https://twitter.com/Kath60276430/status/123535...  2020-03-04T23:54:55Z   \n",
       "4  https://twitter.com/Kath60276430/status/123535...  2020-03-04T23:59:47Z   \n",
       "\n",
       "     screen_name                                               text  \\\n",
       "0  RocketMan6510  Here are the 6 confirmed #coronavirus cases in...   \n",
       "1  mariomoraes51  Find out how #ICT is playing a key role in hea...   \n",
       "2   Kath60276430  @WHO These #coronavirus case &amp; death count...   \n",
       "3   Kath60276430  Yes, #coronavirus is a big concern, but some e...   \n",
       "4   Kath60276430  Today's #coronavirus recap:\\n\\n-93,164 confirm...   \n",
       "\n",
       "                source  is_quote  is_retweet  retweet_count  \n",
       "0      Twitter Web App     False        True            399  \n",
       "1   Twitter for iPhone     False        True            422  \n",
       "2  Twitter for Android     False        True             69  \n",
       "3  Twitter for Android     False        True            480  \n",
       "4  Twitter for Android     False        True           1880  "
      ]
     },
     "execution_count": 41,
     "metadata": {},
     "output_type": "execute_result"
    }
   ],
   "source": [
    "df.head(5)"
   ]
  },
  {
   "cell_type": "code",
   "execution_count": 42,
   "id": "d8751bcb",
   "metadata": {},
   "outputs": [
    {
     "data": {
      "text/html": [
       "<div>\n",
       "<style scoped>\n",
       "    .dataframe tbody tr th:only-of-type {\n",
       "        vertical-align: middle;\n",
       "    }\n",
       "\n",
       "    .dataframe tbody tr th {\n",
       "        vertical-align: top;\n",
       "    }\n",
       "\n",
       "    .dataframe thead th {\n",
       "        text-align: right;\n",
       "    }\n",
       "</style>\n",
       "<table border=\"1\" class=\"dataframe\">\n",
       "  <thead>\n",
       "    <tr style=\"text-align: right;\">\n",
       "      <th></th>\n",
       "      <th>user_id</th>\n",
       "      <th>status_id</th>\n",
       "      <th>status_url</th>\n",
       "      <th>created_at</th>\n",
       "      <th>screen_name</th>\n",
       "      <th>text</th>\n",
       "      <th>source</th>\n",
       "      <th>is_quote</th>\n",
       "      <th>is_retweet</th>\n",
       "      <th>retweet_count</th>\n",
       "    </tr>\n",
       "  </thead>\n",
       "  <tbody>\n",
       "    <tr>\n",
       "      <th>305574</th>\n",
       "      <td>35769315</td>\n",
       "      <td>1243682163645530112</td>\n",
       "      <td>https://twitter.com/henrykleeKTVU/status/12436...</td>\n",
       "      <td>2020-03-27T23:31:48Z</td>\n",
       "      <td>henrykleeKTVU</td>\n",
       "      <td>Open roads as a result of the #coronavirus is ...</td>\n",
       "      <td>Twitter for iPhone</td>\n",
       "      <td>False</td>\n",
       "      <td>False</td>\n",
       "      <td>1</td>\n",
       "    </tr>\n",
       "    <tr>\n",
       "      <th>305575</th>\n",
       "      <td>521613339</td>\n",
       "      <td>1243682163154878464</td>\n",
       "      <td>https://twitter.com/Sneggals/status/1243682163...</td>\n",
       "      <td>2020-03-27T23:31:48Z</td>\n",
       "      <td>Sneggals</td>\n",
       "      <td>Republican Attorneys General push forward with...</td>\n",
       "      <td>Twitter Web App</td>\n",
       "      <td>False</td>\n",
       "      <td>False</td>\n",
       "      <td>0</td>\n",
       "    </tr>\n",
       "    <tr>\n",
       "      <th>305576</th>\n",
       "      <td>46988738</td>\n",
       "      <td>1243682163150618624</td>\n",
       "      <td>https://twitter.com/valadon2/status/1243682163...</td>\n",
       "      <td>2020-03-27T23:31:48Z</td>\n",
       "      <td>valadon2</td>\n",
       "      <td>'The essential thing was to save the greatest ...</td>\n",
       "      <td>Twitter for iPad</td>\n",
       "      <td>False</td>\n",
       "      <td>True</td>\n",
       "      <td>16</td>\n",
       "    </tr>\n",
       "    <tr>\n",
       "      <th>305577</th>\n",
       "      <td>1235576604488650752</td>\n",
       "      <td>1243682163117023232</td>\n",
       "      <td>https://twitter.com/bakura_yamimode/status/124...</td>\n",
       "      <td>2020-03-27T23:31:48Z</td>\n",
       "      <td>bakura_yamimode</td>\n",
       "      <td>Although we are not sitting together, be rest ...</td>\n",
       "      <td>Twitter for Android</td>\n",
       "      <td>False</td>\n",
       "      <td>True</td>\n",
       "      <td>72</td>\n",
       "    </tr>\n",
       "    <tr>\n",
       "      <th>305578</th>\n",
       "      <td>1135867297</td>\n",
       "      <td>1243682161900826625</td>\n",
       "      <td>https://twitter.com/CHHammad91/status/12436821...</td>\n",
       "      <td>2020-03-27T23:31:48Z</td>\n",
       "      <td>CHHammad91</td>\n",
       "      <td>#CoronavirusPandemic #Italy has risen by 968 #...</td>\n",
       "      <td>Twitter for iPhone</td>\n",
       "      <td>False</td>\n",
       "      <td>False</td>\n",
       "      <td>0</td>\n",
       "    </tr>\n",
       "  </tbody>\n",
       "</table>\n",
       "</div>"
      ],
      "text/plain": [
       "                    user_id            status_id  \\\n",
       "305574             35769315  1243682163645530112   \n",
       "305575            521613339  1243682163154878464   \n",
       "305576             46988738  1243682163150618624   \n",
       "305577  1235576604488650752  1243682163117023232   \n",
       "305578           1135867297  1243682161900826625   \n",
       "\n",
       "                                               status_url  \\\n",
       "305574  https://twitter.com/henrykleeKTVU/status/12436...   \n",
       "305575  https://twitter.com/Sneggals/status/1243682163...   \n",
       "305576  https://twitter.com/valadon2/status/1243682163...   \n",
       "305577  https://twitter.com/bakura_yamimode/status/124...   \n",
       "305578  https://twitter.com/CHHammad91/status/12436821...   \n",
       "\n",
       "                  created_at      screen_name  \\\n",
       "305574  2020-03-27T23:31:48Z    henrykleeKTVU   \n",
       "305575  2020-03-27T23:31:48Z         Sneggals   \n",
       "305576  2020-03-27T23:31:48Z         valadon2   \n",
       "305577  2020-03-27T23:31:48Z  bakura_yamimode   \n",
       "305578  2020-03-27T23:31:48Z       CHHammad91   \n",
       "\n",
       "                                                     text  \\\n",
       "305574  Open roads as a result of the #coronavirus is ...   \n",
       "305575  Republican Attorneys General push forward with...   \n",
       "305576  'The essential thing was to save the greatest ...   \n",
       "305577  Although we are not sitting together, be rest ...   \n",
       "305578  #CoronavirusPandemic #Italy has risen by 968 #...   \n",
       "\n",
       "                     source  is_quote  is_retweet  retweet_count  \n",
       "305574   Twitter for iPhone     False       False              1  \n",
       "305575      Twitter Web App     False       False              0  \n",
       "305576     Twitter for iPad     False        True             16  \n",
       "305577  Twitter for Android     False        True             72  \n",
       "305578   Twitter for iPhone     False       False              0  "
      ]
     },
     "execution_count": 42,
     "metadata": {},
     "output_type": "execute_result"
    }
   ],
   "source": [
    "df.tail(5)"
   ]
  },
  {
   "cell_type": "code",
   "execution_count": 43,
   "id": "6687c00b",
   "metadata": {},
   "outputs": [
    {
     "name": "stdout",
     "output_type": "stream",
     "text": [
      "(305579, 10)\n"
     ]
    }
   ],
   "source": [
    "print(df.shape)"
   ]
  },
  {
   "cell_type": "code",
   "execution_count": 44,
   "id": "664f04b3",
   "metadata": {},
   "outputs": [
    {
     "name": "stdout",
     "output_type": "stream",
     "text": [
      "Index(['user_id', 'status_id', 'status_url', 'created_at', 'screen_name',\n",
      "       'text', 'source', 'is_quote', 'is_retweet', 'retweet_count'],\n",
      "      dtype='object')\n"
     ]
    }
   ],
   "source": [
    "print(df.columns)"
   ]
  },
  {
   "cell_type": "code",
   "execution_count": 47,
   "id": "f4d51e01",
   "metadata": {},
   "outputs": [
    {
     "name": "stdout",
     "output_type": "stream",
     "text": [
      "<bound method DataFrame.isnull of                     user_id  \\\n",
      "0        750502701457440768   \n",
      "1                1694554160   \n",
      "2                 866954221   \n",
      "3                 866954221   \n",
      "4                 866954221   \n",
      "...                     ...   \n",
      "305574             35769315   \n",
      "305575            521613339   \n",
      "305576             46988738   \n",
      "305577  1235576604488650752   \n",
      "305578           1135867297   \n",
      "\n",
      "                                                     text  \\\n",
      "0       Here are the 6 confirmed #coronavirus cases in...   \n",
      "1       Find out how #ICT is playing a key role in hea...   \n",
      "2       @WHO These #coronavirus case &amp; death count...   \n",
      "3       Yes, #coronavirus is a big concern, but some e...   \n",
      "4       Today's #coronavirus recap:\\n\\n-93,164 confirm...   \n",
      "...                                                   ...   \n",
      "305574  Open roads as a result of the #coronavirus is ...   \n",
      "305575  Republican Attorneys General push forward with...   \n",
      "305576  'The essential thing was to save the greatest ...   \n",
      "305577  Although we are not sitting together, be rest ...   \n",
      "305578  #CoronavirusPandemic #Italy has risen by 968 #...   \n",
      "\n",
      "                     source  retweet_count  \n",
      "0           Twitter Web App            399  \n",
      "1        Twitter for iPhone            422  \n",
      "2       Twitter for Android             69  \n",
      "3       Twitter for Android            480  \n",
      "4       Twitter for Android           1880  \n",
      "...                     ...            ...  \n",
      "305574   Twitter for iPhone              1  \n",
      "305575      Twitter Web App              0  \n",
      "305576     Twitter for iPad             16  \n",
      "305577  Twitter for Android             72  \n",
      "305578   Twitter for iPhone              0  \n",
      "\n",
      "[305579 rows x 4 columns]>\n"
     ]
    }
   ],
   "source": [
    "print(df.isnull)"
   ]
  },
  {
   "cell_type": "code",
   "execution_count": null,
   "id": "ffefc383",
   "metadata": {},
   "outputs": [],
   "source": [
    "sentiments = df['text'].apply(lambda x: TextBlob(x).sentiment.polarity)"
   ]
  },
  {
   "cell_type": "code",
   "execution_count": 22,
   "id": "b9f9398b",
   "metadata": {},
   "outputs": [
    {
     "name": "stdout",
     "output_type": "stream",
     "text": [
      "0         0.156061\n",
      "1         0.000000\n",
      "2         0.000000\n",
      "3         0.195833\n",
      "4         0.293939\n",
      "            ...   \n",
      "305574    0.012500\n",
      "305575    0.050000\n",
      "305576    0.333333\n",
      "305577    0.000000\n",
      "305578   -0.125000\n",
      "Name: text, Length: 305579, dtype: float64\n"
     ]
    }
   ],
   "source": [
    "print(sentiments)"
   ]
  },
  {
   "cell_type": "code",
   "execution_count": null,
   "id": "20aa120a",
   "metadata": {},
   "outputs": [],
   "source": [
    "df = df.drop(columns=['status_id', 'status_url', 'created_at', 'screen_name', 'is_quote', 'is_retweet'])"
   ]
  },
  {
   "cell_type": "code",
   "execution_count": null,
   "id": "e66f20d4",
   "metadata": {},
   "outputs": [],
   "source": [
    "import matplotlib.pyplot as plt\n",
    "\n",
    "plt.hist(df['retweet_count'], bins=20)\n",
    "plt.xlabel('Retweet Count')\n",
    "plt.ylabel('Frequency')\n",
    "plt.title('Retweet Count Distribution')\n",
    "plt.show()\n"
   ]
  },
  {
   "cell_type": "code",
   "execution_count": null,
   "id": "91b19eee",
   "metadata": {},
   "outputs": [],
   "source": [
    "sentiment_categories = sentiments.apply(categorize_sentiment)\n",
    "\n",
    "print(sentiment_categories)"
   ]
  },
  {
   "cell_type": "code",
   "execution_count": null,
   "id": "17bcd4e0",
   "metadata": {},
   "outputs": [],
   "source": [
    "df['sentiment_category'] = sentiment_categories"
   ]
  },
  {
   "cell_type": "code",
   "execution_count": null,
   "id": "c546601a",
   "metadata": {},
   "outputs": [],
   "source": [
    "df.head()"
   ]
  },
  {
   "cell_type": "code",
   "execution_count": null,
   "id": "b0496bd6",
   "metadata": {},
   "outputs": [],
   "source": [
    "df[\"sentiment_category\"].unique()"
   ]
  },
  {
   "cell_type": "code",
   "execution_count": null,
   "id": "c6f0f031",
   "metadata": {},
   "outputs": [],
   "source": [
    "def sentiment_function(rating):\n",
    "    if rating == \"Extremely Positive\":\n",
    "        return \"2\"\n",
    "    elif rating == \"Positive\":\n",
    "        return \"2\"\n",
    "    elif rating == \"Extremely Negative\":\n",
    "        return \"0\"\n",
    "    elif rating == \"Negative\":\n",
    "        return \"0\"\n",
    "    else:\n",
    "        return \"1\""
   ]
  },
  {
   "cell_type": "code",
   "execution_count": 26,
   "id": "ba41db6a",
   "metadata": {},
   "outputs": [],
   "source": [
    "df['sentiment analysis']=df['sentiment_category'].apply(lambda x:sentiment_function(x))"
   ]
  },
  {
   "cell_type": "code",
   "execution_count": null,
   "id": "3148be9f",
   "metadata": {},
   "outputs": [],
   "source": [
    "df['sentiment analysis'].value_counts"
   ]
  },
  {
   "cell_type": "code",
   "execution_count": 28,
   "id": "e1658946",
   "metadata": {},
   "outputs": [],
   "source": [
    "import seaborn as sns\n",
    "import matplotlib.pyplot as plt"
   ]
  },
  {
   "cell_type": "code",
   "execution_count": 29,
   "id": "d67c4c63",
   "metadata": {},
   "outputs": [
    {
     "data": {
      "image/png": "[encoded data removed]",
      "text/plain": [
       "<Figure size 640x480 with 1 Axes>"
      ]
     },
     "metadata": {},
     "output_type": "display_data"
    }
   ],
   "source": [
    "sns.countplot(x = 'sentiment_category', data = df)\n",
    "plt.show()"
   ]
  },
  {
   "cell_type": "code",
   "execution_count": null,
   "id": "5776369d",
   "metadata": {},
   "outputs": [],
   "source": []
  }
 ],
 "metadata": {
  "kernelspec": {
   "display_name": "Python 3 (ipykernel)",
   "language": "python",
   "name": "python3"
  },
  "language_info": {
   "codemirror_mode": {
    "name": "ipython",
    "version": 3
   },
   "file_extension": ".py",
   "mimetype": "text/x-python",
   "name": "python",
   "nbconvert_exporter": "python",
   "pygments_lexer": "ipython3",
   "version": "3.11.4"
  }
 },
 "nbformat": 4,
 "nbformat_minor": 5
}
