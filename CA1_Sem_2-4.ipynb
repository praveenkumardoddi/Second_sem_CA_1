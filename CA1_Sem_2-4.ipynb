{
 "cells": [
  {
   "cell_type": "code",
   "execution_count": 1,
   "id": "5cbe461f",
   "metadata": {},
   "outputs": [
    {
     "name": "stderr",
     "output_type": "stream",
     "text": [
      "24/03/25 22:56:22 WARN SparkSession: Using an existing Spark session; only runtime SQL configurations will take effect.\n",
      "                                                                                \r"
     ]
    }
   ],
   "source": [
    "from pyspark.sql import SparkSession\n",
    "from pyspark.sql.types import *\n",
    "\n",
    "# Initialize SparkSession\n",
    "spark = SparkSession.builder \\\n",
    "    .appName(\"Read CSV\") \\\n",
    "    .getOrCreate()\n",
    "\n",
    "# Read CSV file into a DataFrame\n",
    "df = spark.read.load('hdfs://localhost:9000/user1/en_coronavirus_03_04_2020_thru_03_27_2020.csv',format='csv', header=True)\n"
   ]
  },
  {
   "cell_type": "code",
   "execution_count": 2,
   "id": "e1ae6834",
   "metadata": {},
   "outputs": [
    {
     "data": {
      "text/html": [
       "\n",
       "        <div>\n",
       "            <p><b>SparkContext</b></p>\n",
       "\n",
       "            <p><a href=\"http://10.0.2.15:4040\">Spark UI</a></p>\n",
       "\n",
       "            <dl>\n",
       "              <dt>Version</dt>\n",
       "                <dd><code>v3.4.2</code></dd>\n",
       "              <dt>Master</dt>\n",
       "                <dd><code>local[*]</code></dd>\n",
       "              <dt>AppName</dt>\n",
       "                <dd><code>PySparkShell</code></dd>\n",
       "            </dl>\n",
       "        </div>\n",
       "        "
      ],
      "text/plain": [
       "<SparkContext master=local[*] appName=PySparkShell>"
      ]
     },
     "execution_count": 2,
     "metadata": {},
     "output_type": "execute_result"
    }
   ],
   "source": [
    "sc"
   ]
  },
  {
   "cell_type": "code",
   "execution_count": 3,
   "id": "1567bbb8",
   "metadata": {},
   "outputs": [
    {
     "name": "stderr",
     "output_type": "stream",
     "text": [
      "                                                                                \r"
     ]
    },
    {
     "name": "stdout",
     "output_type": "stream",
     "text": [
      "+--------------------+--------------------+--------------------+--------------------+-------------+--------------------+------------------+--------+----------+-------------+\n",
      "|             user_id|           status_id|          status_url|          created_at|  screen_name|                text|            source|is_quote|is_retweet|retweet_count|\n",
      "+--------------------+--------------------+--------------------+--------------------+-------------+--------------------+------------------+--------+----------+-------------+\n",
      "|  750502701457440768| 1235354334923276289|https://twitter.c...|2020-03-04T23:59:59Z|RocketMan6510|Here are the 6 co...|              null|    null|      null|         null|\n",
      "|1. Health care wo...|                null|                null|                null|         null|                null|              null|    null|      null|         null|\n",
      "|2. Westchester at...|                null|                null|                null|         null|                null|              null|    null|      null|         null|\n",
      "|         3. His wife|                null|                null|                null|         null|                null|              null|    null|      null|         null|\n",
      "|4. Daughter (14 y...|                null|                null|                null|         null|                null|              null|    null|      null|         null|\n",
      "| 5. Son (20 yrs old)|                null|                null|                null|         null|                null|              null|    null|      null|         null|\n",
      "|6. A neighbor who...|     Twitter Web App|               FALSE|                TRUE|          399|                null|              null|    null|      null|         null|\n",
      "|          1694554160| 1235354333602107393|https://twitter.c...|2020-03-04T23:59:59Z|mariomoraes51|Find out how #ICT...|Twitter for iPhone|   FALSE|      TRUE|          422|\n",
      "|           866954221| 1235354332842901506|https://twitter.c...|2020-03-04T23:59:59Z| Kath60276430|@WHO These #coron...|              null|    null|      null|         null|\n",
      "|https://t.co/rg2D...| Twitter for Android|               FALSE|                TRUE|           69|                null|              null|    null|      null|         null|\n",
      "|           866954221| 1235353059766697984|https://twitter.c...|2020-03-04T23:54:55Z| Kath60276430|Yes, #coronavirus...|              null|    null|      null|         null|\n",
      "|https://t.co/VER4...| Twitter for Android|               FALSE|                TRUE|          480|                null|              null|    null|      null|         null|\n",
      "|           866954221| 1235354283589210112|https://twitter.c...|2020-03-04T23:59:47Z| Kath60276430|Today's #coronavi...|              null|    null|      null|         null|\n",
      "|                 -93|164 confirmed cas...|          199 deaths|                null|         null|                null|              null|    null|      null|         null|\n",
      "|-90% of new cases...|                null|                null|                null|         null|                null|              null|    null|      null|         null|\n",
      "|-#COVID19 deadlie...| but doesn't spre...|                null|                null|         null|                null|              null|    null|      null|         null|\n",
      "|-Containment stil...|                null|                null|                null|         null|                null|              null|    null|      null|         null|\n",
      "|-#PPE supply is r...| Twitter for Android|               FALSE|                TRUE|         1880|                null|              null|    null|      null|         null|\n",
      "|          3308577546| 1235354332335198208|https://twitter.c...|2020-03-04T23:59:59Z|  AlmaTiamzon|Life goes on in #...|              null|    null|      null|         null|\n",
      "|Iranian medical s...|                null|                null|                null|         null|                null|              null|    null|      null|         null|\n",
      "+--------------------+--------------------+--------------------+--------------------+-------------+--------------------+------------------+--------+----------+-------------+\n",
      "only showing top 20 rows\n",
      "\n"
     ]
    }
   ],
   "source": [
    "# Show the DataFrame\n",
    "df.show()"
   ]
  },
  {
   "cell_type": "code",
   "execution_count": 4,
   "id": "3f93dfab",
   "metadata": {},
   "outputs": [
    {
     "name": "stderr",
     "output_type": "stream",
     "text": [
      "[Stage 2:=============================>                             (1 + 1) / 2]\r"
     ]
    },
    {
     "name": "stdout",
     "output_type": "stream",
     "text": [
      "Number of rows: 671515\n",
      "Number of columns: 10\n"
     ]
    },
    {
     "name": "stderr",
     "output_type": "stream",
     "text": [
      "                                                                                \r"
     ]
    }
   ],
   "source": [
    "# Count the number of rows\n",
    "row_count = df.count()\n",
    "\n",
    "# Get the list of column names and count the number of columns\n",
    "column_count = len(df.columns)\n",
    "\n",
    "print(\"Number of rows:\", row_count)\n",
    "print(\"Number of columns:\", column_count)\n"
   ]
  },
  {
   "cell_type": "code",
   "execution_count": 5,
   "id": "0e5a94db",
   "metadata": {},
   "outputs": [
    {
     "name": "stdout",
     "output_type": "stream",
     "text": [
      "root\n",
      " |-- user_id: string (nullable = true)\n",
      " |-- status_id: string (nullable = true)\n",
      " |-- status_url: string (nullable = true)\n",
      " |-- created_at: string (nullable = true)\n",
      " |-- screen_name: string (nullable = true)\n",
      " |-- text: string (nullable = true)\n",
      " |-- source: string (nullable = true)\n",
      " |-- is_quote: string (nullable = true)\n",
      " |-- is_retweet: string (nullable = true)\n",
      " |-- retweet_count: string (nullable = true)\n",
      "\n"
     ]
    }
   ],
   "source": [
    "# Display the schema\n",
    "df.printSchema()"
   ]
  },
  {
   "cell_type": "code",
   "execution_count": 6,
   "id": "f89d616e",
   "metadata": {},
   "outputs": [
    {
     "name": "stderr",
     "output_type": "stream",
     "text": [
      "24/03/25 22:57:05 WARN package: Truncated the string representation of a plan since it was too large. This behavior can be adjusted by setting 'spark.sql.debug.maxToStringFields'.\n",
      "[Stage 5:=============================>                             (1 + 1) / 2]\r"
     ]
    },
    {
     "name": "stdout",
     "output_type": "stream",
     "text": [
      "+-------+--------------------+--------------------+--------------------+------------------+-----------+--------------------+--------------------+--------------------+-----------------+--------------------+\n",
      "|summary|             user_id|           status_id|          status_url|        created_at|screen_name|                text|              source|            is_quote|       is_retweet|       retweet_count|\n",
      "+-------+--------------------+--------------------+--------------------+------------------+-----------+--------------------+--------------------+--------------------+-----------------+--------------------+\n",
      "|  count|              671508|              494948|              463761|            457582|     456004|              321452|              164017|              158709|           157191|              156605|\n",
      "|   mean|3.319423476913961...|1.218941021433981...|   368.7757255936676|1185.4778761061948|   Infinity|   8048.884650235593|  1542.7500769467529|  4367.4402597402595|1976.405172413793|   4909.680592577069|\n",
      "| stddev|4.791978226206066...|1.612757400486819...|   481.7532298134069|1019.9578081027346|        NaN|   22010.26214841966|  2114.9401075629426|   5093.025443557902|1978.874143473515|  14581.082602846076|\n",
      "|    min|                 ...|                    |                    |                  |           |  customers and e...|  editor in chief...|                    |  #WuhanLockDown | \"\"Woman in the W...|\n",
      "|    max|🪓 👯‍♂️ 🪓👯‍♂️?...|                 😷\"|❤tag a mate you k...|              Оwly|          ”|                  󠀠|ツイタマ for Android|” Tedros said Mon...|           viriya|they also need mo...|\n",
      "+-------+--------------------+--------------------+--------------------+------------------+-----------+--------------------+--------------------+--------------------+-----------------+--------------------+\n",
      "\n"
     ]
    },
    {
     "name": "stderr",
     "output_type": "stream",
     "text": [
      "                                                                                \r"
     ]
    }
   ],
   "source": [
    "# Display the summary stastics\n",
    "df.describe().show()"
   ]
  }
 ],
 "metadata": {
  "kernelspec": {
   "display_name": "Python 3 (ipykernel)",
   "language": "python",
   "name": "python3"
  },
  "language_info": {
   "codemirror_mode": {
    "name": "ipython",
    "version": 3
   },
   "file_extension": ".py",
   "mimetype": "text/x-python",
   "name": "python",
   "nbconvert_exporter": "python",
   "pygments_lexer": "ipython3",
   "version": "3.11.4"
  }
 },
 "nbformat": 4,
 "nbformat_minor": 5
}
